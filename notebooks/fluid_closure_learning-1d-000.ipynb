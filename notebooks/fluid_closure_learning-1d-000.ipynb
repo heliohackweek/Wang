{
 "cells": [
  {
   "cell_type": "code",
   "execution_count": 1,
   "metadata": {},
   "outputs": [],
   "source": [
    "from IPython.core.interactiveshell import InteractiveShell\n",
    "InteractiveShell.ast_node_interactivity = \"last_expr\""
   ]
  },
  {
   "cell_type": "code",
   "execution_count": 2,
   "metadata": {},
   "outputs": [
    {
     "name": "stdout",
     "output_type": "stream",
     "text": [
      "2.2.0\n"
     ]
    }
   ],
   "source": [
    "%matplotlib inline\n",
    "import sys\n",
    "import csv\n",
    "import numpy as np\n",
    "import matplotlib.pyplot as plt\n",
    "from mpl_toolkits.mplot3d import Axes3D\n",
    "import pandas as pd\n",
    "import seaborn as sns\n",
    "import tensorflow as tf\n",
    "from tensorflow import keras\n",
    "from tensorflow.keras import layers\n",
    "from numpy import sqrt, cos, sin, pi\n",
    "from numpy.fft import rfft, irfft\n",
    "from tqdm import tqdm\n",
    "\n",
    "print(tf.__version__)"
   ]
  },
  {
   "cell_type": "markdown",
   "metadata": {},
   "source": [
    "- 1d closure ([Hammett & Perkins 1990 PRL](https://w3.pppl.gov/~hammett/refs/1990/Hammett_90_PRL_Landau_fluid_corrected.pdf))\n",
    "$$\\tilde{q}_{k}=-n_{0}\\chi_{1}\\frac{\\sqrt{2}v_{t}}{\\left|k\\right|}ik\\tilde{T}_{k}$$\n",
    "where $\\tilde{T}=\\left(\\tilde{p}-T_{0}\\tilde{n}\\right)/n_{0}$ and $\\chi_{1}=\\frac{2}{\\sqrt{\\pi}}$"
   ]
  },
  {
   "cell_type": "code",
   "execution_count": 3,
   "metadata": {},
   "outputs": [],
   "source": [
    "nsamples_train = 10000\n",
    "nsamples_valid = 1000\n",
    "nsamples = nsamples_train + nsamples_valid"
   ]
  },
  {
   "cell_type": "code",
   "execution_count": 4,
   "metadata": {},
   "outputs": [],
   "source": [
    "# physics parameters that define the input (feature) and output (label)\n",
    "n0 = 1.\n",
    "vt = 1.\n",
    "chi1 = 2. / sqrt(pi)\n",
    "\n",
    "lx = 2. * pi\n",
    "nx = 128\n",
    "kmax = 8"
   ]
  },
  {
   "cell_type": "code",
   "execution_count": 5,
   "metadata": {
    "code_folding": [
     0,
     20,
     53
    ],
    "scrolled": false
   },
   "outputs": [],
   "source": [
    "def make_modes(x, kmax, magnitude=1.):\n",
    "    \"\"\"Make many sinusoidal modes with random amplitudes and phases.\n",
    "\n",
    "    Args:\n",
    "        x: 1d spatial coordinates.\n",
    "        kmax: k = 1, 2, ..., kmax.\n",
    "\n",
    "    Returns:\n",
    "        modes: Superposition of all modes.\n",
    "    \"\"\"\n",
    "    A = np.random.random((kmax)) * magnitude\n",
    "    phi = np.random.random((kmax)) * pi * 2\n",
    "    modes = np.zeros_like(x)\n",
    "    for k in range(1, kmax):\n",
    "        A_k = A[k]\n",
    "        phi_k = phi[k]\n",
    "        modes += A_k * np.cos(k * x + phi_k)\n",
    "    return modes\n",
    "\n",
    "\n",
    "def make_training_data():\n",
    "    x = np.linspace(0, lx, nx, dtype='f4')\n",
    "    # using only zero and positive k since we will use rfft/irrf not fft/ifft\n",
    "    k = np.arange(0, nx // 2 + 1, dtype='f4') * 2 * pi / lx\n",
    "\n",
    "    T_all = []\n",
    "    q_all = []\n",
    "\n",
    "    kabs = abs(k)\n",
    "    kabs[0] = np.finfo(np.float64).eps\n",
    "    coeff_q = -1j * sqrt(2) * n0 * chi1 * vt * k / kabs\n",
    "\n",
    "    for isample in tqdm(range(nsamples)):\n",
    "        # Temperature flucutations in real space, T(x)\n",
    "        T = make_modes(x, kmax)\n",
    "        # Temperature fluctuations in Fourier spacer, T(k)\n",
    "        Tk = rfft(T)\n",
    "        # heatflux fluctuation in Fourier space, q(k)\n",
    "        qk = coeff_q * Tk\n",
    "        # heatflux fluctuation in real space, q(x)\n",
    "        q = irfft(qk)\n",
    "\n",
    "        # append real-space input/output of this sample\n",
    "        T_all.append(T)\n",
    "        q_all.append(q)\n",
    "\n",
    "    # convert to ndarray of shape (nsamples, nx)\n",
    "    T_all = np.array(T_all)\n",
    "    q_all = np.array(q_all)\n",
    "\n",
    "    return T_all, q_all\n",
    "\n",
    "\n",
    "def normalize(arr):\n",
    "    # all data have mean=0\n",
    "    # XXX use the same max\n",
    "    return arr / abs(arr).max()"
   ]
  },
  {
   "cell_type": "code",
   "execution_count": 6,
   "metadata": {},
   "outputs": [
    {
     "name": "stderr",
     "output_type": "stream",
     "text": [
      "100%|██████████| 11000/11000 [00:00<00:00, 11461.35it/s]\n"
     ]
    }
   ],
   "source": [
    "T, q = make_training_data()"
   ]
  },
  {
   "cell_type": "code",
   "execution_count": 7,
   "metadata": {},
   "outputs": [],
   "source": [
    "T = normalize(T)\n",
    "q = normalize(q)"
   ]
  },
  {
   "cell_type": "code",
   "execution_count": 8,
   "metadata": {},
   "outputs": [],
   "source": [
    "train_data = T[:nsamples_train, ...]\n",
    "train_labels = q[:nsamples_train, ...]\n",
    "\n",
    "valid_data = T[nsamples_train:, ...]\n",
    "valid_labels = q[nsamples_train:, ...]"
   ]
  },
  {
   "cell_type": "code",
   "execution_count": 9,
   "metadata": {},
   "outputs": [],
   "source": [
    "num_nodes = 256\n",
    "model = keras.Sequential([\n",
    "    layers.Dense(num_nodes,\n",
    "                 activation='relu',\n",
    "                 input_shape=(train_data.shape[1], )),\n",
    "    layers.Dense(num_nodes,\n",
    "                 activation='relu'),\n",
    "    layers.Dense(train_labels.shape[1],\n",
    "                 activation='linear')\n",
    "])\n",
    "\n",
    "model.compile(loss='mse',\n",
    "              optimizer=keras.optimizers.Adam(),\n",
    "              metrics=['mae', 'mse'])"
   ]
  },
  {
   "cell_type": "code",
   "execution_count": 10,
   "metadata": {
    "scrolled": true
   },
   "outputs": [
    {
     "name": "stdout",
     "output_type": "stream",
     "text": [
      "Model: \"sequential\"\n",
      "_________________________________________________________________\n",
      "Layer (type)                 Output Shape              Param #   \n",
      "=================================================================\n",
      "dense (Dense)                (None, 256)               33024     \n",
      "_________________________________________________________________\n",
      "dense_1 (Dense)              (None, 256)               65792     \n",
      "_________________________________________________________________\n",
      "dense_2 (Dense)              (None, 128)               32896     \n",
      "=================================================================\n",
      "Total params: 131,712\n",
      "Trainable params: 131,712\n",
      "Non-trainable params: 0\n",
      "_________________________________________________________________\n"
     ]
    }
   ],
   "source": [
    "model.summary()"
   ]
  },
  {
   "cell_type": "code",
   "execution_count": 11,
   "metadata": {
    "code_folding": [
     0
    ],
    "scrolled": false
   },
   "outputs": [
    {
     "name": "stdout",
     "output_type": "stream",
     "text": [
      "EPOCH 0: loss 4.35e-03; mae 3.70e-02; mse 4.35e-03\n",
      "EPOCH 100: loss 4.40e-05; mae 4.86e-03; mse 4.40e-05\n",
      "EPOCH 200: loss 1.38e-05; mae 2.81e-03; mse 1.38e-05\n",
      "EPOCH 300: loss 1.36e-05; mae 2.59e-03; mse 1.36e-05\n",
      "EPOCH 400: loss 8.93e-06; mae 2.16e-03; mse 8.93e-06\n"
     ]
    }
   ],
   "source": [
    "# Train the model\n",
    "\n",
    "# How many times we go through the entire dataset\n",
    "EPOCHS = 500\n",
    "\n",
    "\n",
    "# https://keras.io/guides/writing_your_own_callbacks/\n",
    "class PrintLogs(keras.callbacks.Callback):\n",
    "    def on_epoch_end(self, epoch, logs):\n",
    "        if epoch % 100 == 0:\n",
    "            log_epoch = [\n",
    "                '{} {:.2e}'.format(key, logs[key]) for key in logs.keys()\n",
    "            ]\n",
    "            print('EPOCH {}:'.format(epoch), '; '.join(log_epoch))\n",
    "\n",
    "\n",
    "callbacks = [\n",
    "    PrintLogs(),\n",
    "]\n",
    "\n",
    "# https://keras.io/api/models/model_training_apis/#fit-method\n",
    "history = model.fit(train_data,\n",
    "                    train_labels,\n",
    "                    epochs=EPOCHS,\n",
    "                    verbose=0,\n",
    "                    callbacks=callbacks)"
   ]
  },
  {
   "cell_type": "code",
   "execution_count": 12,
   "metadata": {},
   "outputs": [
    {
     "data": {
      "text/html": [
       "<div>\n",
       "<style scoped>\n",
       "    .dataframe tbody tr th:only-of-type {\n",
       "        vertical-align: middle;\n",
       "    }\n",
       "\n",
       "    .dataframe tbody tr th {\n",
       "        vertical-align: top;\n",
       "    }\n",
       "\n",
       "    .dataframe thead th {\n",
       "        text-align: right;\n",
       "    }\n",
       "</style>\n",
       "<table border=\"1\" class=\"dataframe\">\n",
       "  <thead>\n",
       "    <tr style=\"text-align: right;\">\n",
       "      <th></th>\n",
       "      <th>loss</th>\n",
       "      <th>mae</th>\n",
       "      <th>mse</th>\n",
       "      <th>epoch</th>\n",
       "    </tr>\n",
       "  </thead>\n",
       "  <tbody>\n",
       "    <tr>\n",
       "      <th>495</th>\n",
       "      <td>0.000005</td>\n",
       "      <td>0.001777</td>\n",
       "      <td>0.000005</td>\n",
       "      <td>495</td>\n",
       "    </tr>\n",
       "    <tr>\n",
       "      <th>496</th>\n",
       "      <td>0.000010</td>\n",
       "      <td>0.002394</td>\n",
       "      <td>0.000010</td>\n",
       "      <td>496</td>\n",
       "    </tr>\n",
       "    <tr>\n",
       "      <th>497</th>\n",
       "      <td>0.000008</td>\n",
       "      <td>0.002116</td>\n",
       "      <td>0.000008</td>\n",
       "      <td>497</td>\n",
       "    </tr>\n",
       "    <tr>\n",
       "      <th>498</th>\n",
       "      <td>0.000007</td>\n",
       "      <td>0.001978</td>\n",
       "      <td>0.000007</td>\n",
       "      <td>498</td>\n",
       "    </tr>\n",
       "    <tr>\n",
       "      <th>499</th>\n",
       "      <td>0.000007</td>\n",
       "      <td>0.001985</td>\n",
       "      <td>0.000007</td>\n",
       "      <td>499</td>\n",
       "    </tr>\n",
       "  </tbody>\n",
       "</table>\n",
       "</div>"
      ],
      "text/plain": [
       "         loss       mae       mse  epoch\n",
       "495  0.000005  0.001777  0.000005    495\n",
       "496  0.000010  0.002394  0.000010    496\n",
       "497  0.000008  0.002116  0.000008    497\n",
       "498  0.000007  0.001978  0.000007    498\n",
       "499  0.000007  0.001985  0.000007    499"
      ]
     },
     "execution_count": 12,
     "metadata": {},
     "output_type": "execute_result"
    }
   ],
   "source": [
    "# Use the stats stored in the history object.\n",
    "hist = pd.DataFrame(history.history)\n",
    "hist['epoch'] = history.epoch\n",
    "hist.tail()"
   ]
  },
  {
   "cell_type": "code",
   "execution_count": 13,
   "metadata": {},
   "outputs": [
    {
     "data": {
      "image/png": "[encoded data removed]",
      "text/plain": [
       "<Figure size 432x288 with 1 Axes>"
      ]
     },
     "metadata": {
      "needs_background": "light"
     },
     "output_type": "display_data"
    },
    {
     "data": {
      "image/png": "[encoded data removed]",
      "text/plain": [
       "<Figure size 432x288 with 1 Axes>"
      ]
     },
     "metadata": {
      "needs_background": "light"
     },
     "output_type": "display_data"
    }
   ],
   "source": [
    "def plot_history(history):\n",
    "    hist = pd.DataFrame(history.history)\n",
    "    hist['epoch'] = history.epoch\n",
    "\n",
    "    plt.figure()\n",
    "    plt.xlabel('Epoch')\n",
    "    plt.ylabel('Mean Abs Error [Target]')\n",
    "    plt.plot(hist['epoch'], hist['mae'],\n",
    "             label='Train Error')\n",
    "#    plt.plot(hist['epoch'], hist['val_mae'],\n",
    "#             label = 'Val Error')\n",
    "    plt.legend()\n",
    "    plt.ylim([min(hist['mse']) ,max(hist['mae'])])\n",
    "\n",
    "    plt.figure()\n",
    "    plt.xlabel('Epoch')\n",
    "    plt.ylabel('Mean Square Error [$Target^2$]')\n",
    "    plt.plot(hist['epoch'], hist['mse'],\n",
    "             label='Train Error')\n",
    "#    plt.plot(hist['epoch'], hist['val_mse'],\n",
    "#             label = 'Val Error')\n",
    "    plt.legend()\n",
    "    plt.ylim([0,max(hist['mse'])])\n",
    "\n",
    "plot_history(history)"
   ]
  },
  {
   "cell_type": "code",
   "execution_count": 14,
   "metadata": {},
   "outputs": [
    {
     "name": "stdout",
     "output_type": "stream",
     "text": [
      "32/32 [==============================] - 0s 3ms/step - loss: 2.8483e-05 - mae: 0.0041 - mse: 2.8483e-05\n",
      "Testing set Mean Abs Error: 0.004063527099788189 \n"
     ]
    }
   ],
   "source": [
    "# Compute the overall scores of the model\n",
    "loss, mae, mse = model.evaluate(valid_data, valid_labels, verbose=1)\n",
    "print(\"Testing set Mean Abs Error: {} \".format(mae))"
   ]
  },
  {
   "cell_type": "code",
   "execution_count": 15,
   "metadata": {},
   "outputs": [],
   "source": [
    "valid_predictions = model.predict(valid_data)"
   ]
  },
  {
   "cell_type": "code",
   "execution_count": 16,
   "metadata": {},
   "outputs": [
    {
     "data": {
      "image/png": "[encoded data removed]",
      "text/plain": [
       "<Figure size 432x288 with 1 Axes>"
      ]
     },
     "metadata": {
      "needs_background": "light"
     },
     "output_type": "display_data"
    }
   ],
   "source": [
    "# compare truth and prediction for one or more samples\n",
    "for isample in range(1):\n",
    "    plt.figure()\n",
    "    plt.plot(valid_labels[isample, :], lw=4, ls='--', label='truth')\n",
    "    plt.plot(valid_predictions[isample, :], label='prediction')\n",
    "    plt.legend()\n",
    "    plt.xlabel('data index number')\n",
    "    plt.ylabel('output')"
   ]
  },
  {
   "cell_type": "code",
   "execution_count": 17,
   "metadata": {},
   "outputs": [
    {
     "data": {
      "text/plain": [
       "[<matplotlib.lines.Line2D at 0x7f7ecc7e2fd0>]"
      ]
     },
     "execution_count": 17,
     "metadata": {},
     "output_type": "execute_result"
    },
    {
     "data": {
      "image/png": "[encoded data removed]",
      "text/plain": [
       "<Figure size 432x288 with 1 Axes>"
      ]
     },
     "metadata": {
      "needs_background": "light"
     },
     "output_type": "display_data"
    }
   ],
   "source": [
    "# do the 45-degree plot; close to the diagonal == good\n",
    "plt.scatter(valid_labels, valid_predictions, alpha=0.5)\n",
    "plt.xlabel('True Values')\n",
    "plt.ylabel('Predictions')\n",
    "plt.axis('equal')\n",
    "plt.axis('square')\n",
    "plt.xlim([0, plt.xlim()[1]])\n",
    "plt.ylim([0, plt.ylim()[1]])\n",
    "plt.plot([-100, 100], [-100, 100])"
   ]
  },
  {
   "cell_type": "code",
   "execution_count": null,
   "metadata": {},
   "outputs": [],
   "source": []
  }
 ],
 "metadata": {
  "gist": {
   "data": {
    "description": "fluid_closure_learning-1d-data_generation.ipynb",
    "public": false
   },
   "id": ""
  },
  "kernelspec": {
   "display_name": "Python 3",
   "language": "python",
   "name": "python3"
  },
  "language_info": {
   "codemirror_mode": {
    "name": "ipython",
    "version": 3
   },
   "file_extension": ".py",
   "mimetype": "text/x-python",
   "name": "python",
   "nbconvert_exporter": "python",
   "pygments_lexer": "ipython3",
   "version": "3.7.7"
  },
  "varInspector": {
   "cols": {
    "lenName": 16,
    "lenType": 16,
    "lenVar": 40
   },
   "kernels_config": {
    "python": {
     "delete_cmd_postfix": "",
     "delete_cmd_prefix": "del ",
     "library": "var_list.py",
     "varRefreshCmd": "print(var_dic_list())"
    },
    "r": {
     "delete_cmd_postfix": ") ",
     "delete_cmd_prefix": "rm(",
     "library": "var_list.r",
     "varRefreshCmd": "cat(var_dic_list()) "
    }
   },
   "oldHeight": 122,
   "position": {
    "height": "144px",
    "left": "818px",
    "right": "20px",
    "top": "341px",
    "width": "350px"
   },
   "types_to_exclude": [
    "module",
    "function",
    "builtin_function_or_method",
    "instance",
    "_Feature"
   ],
   "varInspector_section_display": "block",
   "window_display": false
  }
 },
 "nbformat": 4,
 "nbformat_minor": 2
}
