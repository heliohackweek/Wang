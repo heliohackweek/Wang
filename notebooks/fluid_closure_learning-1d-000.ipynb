{
 "cells": [
  {
   "cell_type": "code",
   "execution_count": 1,
   "metadata": {},
   "outputs": [],
   "source": [
    "from IPython.core.interactiveshell import InteractiveShell\n",
    "InteractiveShell.ast_node_interactivity = \"last_expr\""
   ]
  },
  {
   "cell_type": "code",
   "execution_count": 2,
   "metadata": {},
   "outputs": [
    {
     "name": "stdout",
     "output_type": "stream",
     "text": [
      "2.2.0\n"
     ]
    }
   ],
   "source": [
    "%matplotlib inline\n",
    "import sys\n",
    "import csv\n",
    "import numpy as np\n",
    "import matplotlib.pyplot as plt\n",
    "from mpl_toolkits.mplot3d import Axes3D\n",
    "import pandas as pd\n",
    "import seaborn as sns\n",
    "import tensorflow as tf\n",
    "from tensorflow import keras\n",
    "from tensorflow.keras import layers\n",
    "from numpy import sqrt, cos, sin, pi\n",
    "from numpy.fft import fft, ifft, rfft, irfft\n",
    "from tqdm import tqdm\n",
    "import time\n",
    "\n",
    "print(tf.__version__)"
   ]
  },
  {
   "cell_type": "markdown",
   "metadata": {},
   "source": [
    "- 1d closure ([Hammett & Perkins 1990 PRL](https://w3.pppl.gov/~hammett/refs/1990/Hammett_90_PRL_Landau_fluid_corrected.pdf)) written in the Fourier space:\n",
    "$$\\tilde{q}_{k}=-n_{0}\\chi_{1}\\frac{\\sqrt{2}v_{t}}{\\left|k\\right|}ik\\tilde{T}_{k}$$\n",
    "where $\\tilde{q}_k$ is the heatflux in the k-space,  $\\tilde{T}_k$ is the temperature fluctuation in the k-space, $\\chi_{1}=\\frac{2}{\\sqrt{\\pi}}$, $n_0$ is the background density, $v_t=\\sqrt{T_0/m}$ is the thermal speed.\n",
    "- input/feature: $\\tilde{T}$ in the real-space\n",
    "- output/label: $\\tilde{q}$ in the real-space computed (after fft/ifft) from the closue using $\\tilde{T}$\n",
    "- reference: [Ma+2020POP](http://arxiv.org/abs/1909.11509)"
   ]
  },
  {
   "cell_type": "markdown",
   "metadata": {},
   "source": [
    "### Generate data"
   ]
  },
  {
   "cell_type": "code",
   "execution_count": 3,
   "metadata": {},
   "outputs": [],
   "source": [
    "nsamples_train = 10000\n",
    "nsamples_test = 100\n",
    "nsamples = nsamples_train + nsamples_test"
   ]
  },
  {
   "cell_type": "code",
   "execution_count": 4,
   "metadata": {},
   "outputs": [],
   "source": [
    "# physics parameters that define the input (feature) and output (label)\n",
    "n0 = 1.\n",
    "vt = 1.\n",
    "chi1 = 2. / sqrt(pi)\n",
    "\n",
    "lx = 2. * pi\n",
    "nx = 128\n",
    "kmax = 8"
   ]
  },
  {
   "cell_type": "code",
   "execution_count": 5,
   "metadata": {
    "code_folding": [
     0,
     50
    ],
    "scrolled": false
   },
   "outputs": [],
   "source": [
    "def make_modes(x, kmax, magnitude=1.):\n",
    "    \"\"\"Make many sinusoidal modes with random amplitudes and phases.\n",
    "\n",
    "    Args:\n",
    "        x: 1d spatial coordinates.\n",
    "        kmax: k = 1, 2, ..., kmax.\n",
    "\n",
    "    Returns:\n",
    "        modes: Superposition of all modes.\n",
    "    \"\"\"\n",
    "    A = np.random.random((kmax)) * magnitude\n",
    "    phi = np.random.random((kmax)) * pi * 2\n",
    "    modes = np.zeros_like(x)\n",
    "    for k in range(1, kmax):\n",
    "        A_k = A[k]\n",
    "        phi_k = phi[k]\n",
    "        modes += A_k * np.cos(k * x + phi_k)\n",
    "    return modes\n",
    "\n",
    "\n",
    "def make_training_data():\n",
    "    x = np.linspace(0, lx, nx)\n",
    "    k = np.fft.fftfreq(nx, d=lx/nx) * 2. * pi\n",
    "\n",
    "    T_all = []\n",
    "    q_all = []\n",
    "\n",
    "    coeff_q = -n0 * chi1 * sqrt(2) * vt * 1j * np.sign(k)\n",
    "\n",
    "    for isample in tqdm(range(nsamples)):\n",
    "        # Temperature flucutations in real space, T(x)\n",
    "        T = make_modes(x, kmax)\n",
    "        # Temperature fluctuations in Fourier spacer, T(k)\n",
    "        Tk = fft(T)\n",
    "        # heatflux fluctuation in Fourier space, q(k)\n",
    "        qk = coeff_q * Tk\n",
    "        # heatflux fluctuation in real space, q(x)\n",
    "        q = ifft(qk).real\n",
    "\n",
    "        # append real-space input/output of this sample\n",
    "        T_all.append(T)\n",
    "        q_all.append(q)\n",
    "\n",
    "    # convert to ndarray of shape (nsamples, nx)\n",
    "    T_all = np.array(T_all)\n",
    "    q_all = np.array(q_all)\n",
    "\n",
    "    return T_all, q_all\n",
    "\n",
    "\n",
    "def normalize(arr):\n",
    "    # all data have mean=0\n",
    "    # XXX use the same max\n",
    "    return arr / abs(arr).max()"
   ]
  },
  {
   "cell_type": "code",
   "execution_count": 6,
   "metadata": {},
   "outputs": [
    {
     "name": "stderr",
     "output_type": "stream",
     "text": [
      "100%|██████████| 10100/10100 [00:01<00:00, 8495.72it/s]\n"
     ]
    }
   ],
   "source": [
    "T, q = make_training_data()"
   ]
  },
  {
   "cell_type": "code",
   "execution_count": 7,
   "metadata": {},
   "outputs": [],
   "source": [
    "T = normalize(T)\n",
    "q = normalize(q)"
   ]
  },
  {
   "cell_type": "code",
   "execution_count": 8,
   "metadata": {},
   "outputs": [],
   "source": [
    "train_data = T[:nsamples_train, ...]\n",
    "train_labels = q[:nsamples_train, ...]\n",
    "\n",
    "test_data = T[nsamples_train:, ...]\n",
    "test_labels = q[nsamples_train:, ...]"
   ]
  },
  {
   "cell_type": "markdown",
   "metadata": {},
   "source": [
    "### Create the model"
   ]
  },
  {
   "cell_type": "code",
   "execution_count": 9,
   "metadata": {},
   "outputs": [
    {
     "name": "stdout",
     "output_type": "stream",
     "text": [
      "Model: \"sequential\"\n",
      "_________________________________________________________________\n",
      "Layer (type)                 Output Shape              Param #   \n",
      "=================================================================\n",
      "dense (Dense)                (None, 256)               33024     \n",
      "_________________________________________________________________\n",
      "dense_1 (Dense)              (None, 256)               65792     \n",
      "_________________________________________________________________\n",
      "dense_2 (Dense)              (None, 128)               32896     \n",
      "=================================================================\n",
      "Total params: 131,712\n",
      "Trainable params: 131,712\n",
      "Non-trainable params: 0\n",
      "_________________________________________________________________\n"
     ]
    }
   ],
   "source": [
    "num_nodes = 256\n",
    "model = keras.Sequential([\n",
    "    layers.Dense(num_nodes,\n",
    "                 activation='relu',\n",
    "                 input_shape=(train_data.shape[1], )),\n",
    "    layers.Dense(num_nodes, activation='relu'),\n",
    "    layers.Dense(train_labels.shape[1], activation='linear')\n",
    "])\n",
    "\n",
    "model.compile(loss='mse',\n",
    "              optimizer=keras.optimizers.Adam(),\n",
    "              metrics=['accuracy', 'mae', 'mse'])\n",
    "\n",
    "model.summary()"
   ]
  },
  {
   "cell_type": "markdown",
   "metadata": {},
   "source": [
    "### Train the model"
   ]
  },
  {
   "cell_type": "code",
   "execution_count": 10,
   "metadata": {
    "code_folding": [],
    "scrolled": false
   },
   "outputs": [
    {
     "name": "stdout",
     "output_type": "stream",
     "text": [
      "EPOCH 99time total 60.88s per-epoch 0.6088s:loss 3.2e-05; accuracy 9.0e-01; mae 4.3e-03; mse 3.2e-05; val_loss 4.3e-05; val_accuracy 9.0e-01; val_mae 5.1e-03; val_mse 4.3e-05\n",
      "EPOCH 199time total 126.216s per-epoch 0.63108s:loss 6.5e-06; accuracy 9.6e-01; mae 1.9e-03; mse 6.5e-06; val_loss 3.8e-06; val_accuracy 9.9e-01; val_mae 1.5e-03; val_mse 3.8e-06\n",
      "EPOCH 299time total 191.262s per-epoch 0.637541s:loss 9.6e-06; accuracy 9.5e-01; mae 2.4e-03; mse 9.6e-06; val_loss 3.2e-05; val_accuracy 9.4e-01; val_mae 4.5e-03; val_mse 3.2e-05\n",
      "EPOCH 399time total 255.719s per-epoch 0.639298s:loss 4.3e-06; accuracy 9.7e-01; mae 1.6e-03; mse 4.3e-06; val_loss 9.3e-06; val_accuracy 9.8e-01; val_mae 2.3e-03; val_mse 9.3e-06\n",
      "EPOCH 499time total 321.097s per-epoch 0.642193s:loss 6.4e-06; accuracy 9.6e-01; mae 1.9e-03; mse 6.4e-06; val_loss 7.1e-06; val_accuracy 9.7e-01; val_mae 2.0e-03; val_mse 7.1e-06\n"
     ]
    }
   ],
   "source": [
    "EPOCHS = 500  # How many times we go through the entire dataset\n",
    "validation_split = 0.05  # fraction of data to be used as live validation\n",
    "\n",
    "\n",
    "# https://keras.io/guides/writing_your_own_callbacks/\n",
    "class PrintLogs(keras.callbacks.Callback):\n",
    "    def on_train_begin(self, logs={}):\n",
    "        self.time_begin = time.time()\n",
    "\n",
    "    def on_epoch_end(self, epoch, logs):\n",
    "        if epoch >0 and (epoch+1) % 100 == 0:\n",
    "            info = ''\n",
    "            info += 'EPOCH {}'.format(epoch)\n",
    "            dt = time.time() - self.time_begin\n",
    "            dt_per_epoch = dt / (epoch + 1)\n",
    "            info +='; time total {:g}s per-epoch {:g}s:'.format(dt, dt_per_epoch)\n",
    "            log_epoch = [\n",
    "                '{} {:.1e}'.format(key, logs[key]) for key in logs.keys()\n",
    "            ]\n",
    "            info += '; '.join(log_epoch)\n",
    "            print(info)\n",
    "\n",
    "\n",
    "callbacks = [\n",
    "    PrintLogs(),\n",
    "]\n",
    "\n",
    "# https://keras.io/api/models/model_training_apis/#fit-method\n",
    "history = model.fit(train_data,\n",
    "                    train_labels,\n",
    "                    epochs=EPOCHS,\n",
    "                    validation_split=validation_split,\n",
    "                    verbose=0,\n",
    "                    callbacks=callbacks)"
   ]
  },
  {
   "cell_type": "markdown",
   "metadata": {},
   "source": [
    "### Benchmark the model"
   ]
  },
  {
   "cell_type": "code",
   "execution_count": 11,
   "metadata": {
    "scrolled": true
   },
   "outputs": [
    {
     "data": {
      "text/html": [
       "<div>\n",
       "<style scoped>\n",
       "    .dataframe tbody tr th:only-of-type {\n",
       "        vertical-align: middle;\n",
       "    }\n",
       "\n",
       "    .dataframe tbody tr th {\n",
       "        vertical-align: top;\n",
       "    }\n",
       "\n",
       "    .dataframe thead th {\n",
       "        text-align: right;\n",
       "    }\n",
       "</style>\n",
       "<table border=\"1\" class=\"dataframe\">\n",
       "  <thead>\n",
       "    <tr style=\"text-align: right;\">\n",
       "      <th></th>\n",
       "      <th>loss</th>\n",
       "      <th>accuracy</th>\n",
       "      <th>mae</th>\n",
       "      <th>mse</th>\n",
       "      <th>val_loss</th>\n",
       "      <th>val_accuracy</th>\n",
       "      <th>val_mae</th>\n",
       "      <th>val_mse</th>\n",
       "      <th>epoch</th>\n",
       "    </tr>\n",
       "  </thead>\n",
       "  <tbody>\n",
       "    <tr>\n",
       "      <th>495</th>\n",
       "      <td>0.000008</td>\n",
       "      <td>0.959263</td>\n",
       "      <td>0.002211</td>\n",
       "      <td>0.000008</td>\n",
       "      <td>0.000005</td>\n",
       "      <td>0.986</td>\n",
       "      <td>0.001717</td>\n",
       "      <td>0.000005</td>\n",
       "      <td>495</td>\n",
       "    </tr>\n",
       "    <tr>\n",
       "      <th>496</th>\n",
       "      <td>0.000016</td>\n",
       "      <td>0.943895</td>\n",
       "      <td>0.002928</td>\n",
       "      <td>0.000016</td>\n",
       "      <td>0.000018</td>\n",
       "      <td>0.954</td>\n",
       "      <td>0.003320</td>\n",
       "      <td>0.000018</td>\n",
       "      <td>496</td>\n",
       "    </tr>\n",
       "    <tr>\n",
       "      <th>497</th>\n",
       "      <td>0.000006</td>\n",
       "      <td>0.964316</td>\n",
       "      <td>0.001783</td>\n",
       "      <td>0.000006</td>\n",
       "      <td>0.000003</td>\n",
       "      <td>0.978</td>\n",
       "      <td>0.001414</td>\n",
       "      <td>0.000003</td>\n",
       "      <td>497</td>\n",
       "    </tr>\n",
       "    <tr>\n",
       "      <th>498</th>\n",
       "      <td>0.000007</td>\n",
       "      <td>0.963263</td>\n",
       "      <td>0.001929</td>\n",
       "      <td>0.000007</td>\n",
       "      <td>0.000004</td>\n",
       "      <td>0.960</td>\n",
       "      <td>0.001506</td>\n",
       "      <td>0.000004</td>\n",
       "      <td>498</td>\n",
       "    </tr>\n",
       "    <tr>\n",
       "      <th>499</th>\n",
       "      <td>0.000006</td>\n",
       "      <td>0.962105</td>\n",
       "      <td>0.001863</td>\n",
       "      <td>0.000006</td>\n",
       "      <td>0.000007</td>\n",
       "      <td>0.968</td>\n",
       "      <td>0.002033</td>\n",
       "      <td>0.000007</td>\n",
       "      <td>499</td>\n",
       "    </tr>\n",
       "  </tbody>\n",
       "</table>\n",
       "</div>"
      ],
      "text/plain": [
       "         loss  accuracy       mae       mse  val_loss  val_accuracy   val_mae  \\\n",
       "495  0.000008  0.959263  0.002211  0.000008  0.000005         0.986  0.001717   \n",
       "496  0.000016  0.943895  0.002928  0.000016  0.000018         0.954  0.003320   \n",
       "497  0.000006  0.964316  0.001783  0.000006  0.000003         0.978  0.001414   \n",
       "498  0.000007  0.963263  0.001929  0.000007  0.000004         0.960  0.001506   \n",
       "499  0.000006  0.962105  0.001863  0.000006  0.000007         0.968  0.002033   \n",
       "\n",
       "      val_mse  epoch  \n",
       "495  0.000005    495  \n",
       "496  0.000018    496  \n",
       "497  0.000003    497  \n",
       "498  0.000004    498  \n",
       "499  0.000007    499  "
      ]
     },
     "execution_count": 11,
     "metadata": {},
     "output_type": "execute_result"
    }
   ],
   "source": [
    "# Use the stats stored in the history object.\n",
    "hist = pd.DataFrame(history.history)\n",
    "hist['epoch'] = history.epoch\n",
    "hist.tail()"
   ]
  },
  {
   "cell_type": "code",
   "execution_count": 12,
   "metadata": {
    "code_folding": [
     0
    ]
   },
   "outputs": [
    {
     "data": {
      "image/png": "[encoded data removed]",
      "text/plain": [
       "<Figure size 864x216 with 2 Axes>"
      ]
     },
     "metadata": {
      "needs_background": "light"
     },
     "output_type": "display_data"
    }
   ],
   "source": [
    "def plot_history(history, step=25):\n",
    "    fig = plt.figure(figsize=(12, 3))\n",
    "    hist = pd.DataFrame(history.history).iloc[::step]\n",
    "    hist['epoch'] = history.epoch[::step]\n",
    "\n",
    "    plt.subplot(131)\n",
    "    plt.semilogy(hist['epoch'], hist['mae'], label='training')\n",
    "    plt.semilogy(hist['epoch'], hist['val_mae'], label='test', alpha=0.8)\n",
    "    plt.legend()\n",
    "    plt.xlabel('Epoch')\n",
    "    plt.ylabel('Mean Abs Error (mae)')\n",
    "\n",
    "    plt.subplot(132)\n",
    "    plt.semilogy(hist['epoch'], hist['mse'], label='training')\n",
    "    plt.semilogy(hist['epoch'], hist['val_mse'], label='test', alpha=0.8)\n",
    "    plt.legend()\n",
    "    plt.xlabel('Epoch')\n",
    "    plt.ylabel('Mean Square Error (mse)')\n",
    "\n",
    "    plt.tight_layout()\n",
    "\n",
    "\n",
    "plot_history(history)"
   ]
  },
  {
   "cell_type": "code",
   "execution_count": 21,
   "metadata": {},
   "outputs": [
    {
     "name": "stdout",
     "output_type": "stream",
     "text": [
      "4/4 [==============================] - 0s 9ms/step - loss: 7.6621e-06 - accuracy: 0.9900 - mae: 0.0021 - mse: 7.6621e-06\n"
     ]
    }
   ],
   "source": [
    "# Compute the overall scores of the model\n",
    "scores = model.evaluate(test_data, test_labels, verbose=1)"
   ]
  },
  {
   "cell_type": "code",
   "execution_count": 14,
   "metadata": {},
   "outputs": [],
   "source": [
    "test_predictions = model.predict(test_data)"
   ]
  },
  {
   "cell_type": "code",
   "execution_count": 45,
   "metadata": {},
   "outputs": [
    {
     "data": {
      "image/png": "[encoded data removed]",
      "text/plain": [
       "<Figure size 432x288 with 1 Axes>"
      ]
     },
     "metadata": {
      "needs_background": "light"
     },
     "output_type": "display_data"
    }
   ],
   "source": [
    "# compare truth and prediction for one or more test samples\n",
    "for itest in range(1):\n",
    "    plt.figure()\n",
    "    plt.plot(test_predictions[itest, :], lw=4, ls='--', label='prediction')\n",
    "    plt.plot(test_labels[itest, :], label='truth')\n",
    "    plt.legend()\n",
    "    plt.xlabel('data index number')\n",
    "    plt.title('Normalized label values)')"
   ]
  },
  {
   "cell_type": "code",
   "execution_count": 60,
   "metadata": {},
   "outputs": [
    {
     "data": {
      "text/plain": [
       "(-1.1, 1.1, -1.1, 1.1)"
      ]
     },
     "execution_count": 60,
     "metadata": {},
     "output_type": "execute_result"
    },
    {
     "data": {
      "image/png": "[encoded data removed]",
      "text/plain": [
       "<Figure size 432x288 with 1 Axes>"
      ]
     },
     "metadata": {
      "needs_background": "light"
     },
     "output_type": "display_data"
    }
   ],
   "source": [
    "# do the 45-degree plot; close to the diagonal == good\n",
    "plt.plot((-1, 1), (-1, 1), c='r')\n",
    "plt.scatter(test_labels, test_predictions, alpha=0.3)\n",
    "plt.xlabel('truth')\n",
    "plt.ylabel('predictions')\n",
    "plt.title('Normalized label values')\n",
    "plt.axis('equal')"
   ]
  },
  {
   "cell_type": "markdown",
   "metadata": {},
   "source": [
    "### Save the model"
   ]
  },
  {
   "cell_type": "code",
   "execution_count": 17,
   "metadata": {},
   "outputs": [],
   "source": [
    "model_filename = 'closure-1d-model.h5'\n",
    "model.save(model_filename)"
   ]
  },
  {
   "cell_type": "code",
   "execution_count": 19,
   "metadata": {},
   "outputs": [
    {
     "name": "stdout",
     "output_type": "stream",
     "text": [
      "model_weights                                         <class 'h5py._hl.group.Group'>\n",
      "model_weights/dense                                   <class 'h5py._hl.group.Group'>\n",
      "model_weights/dense/dense                             <class 'h5py._hl.group.Group'>\n",
      "model_weights/dense/dense/bias:0           (256,)     <class 'h5py._hl.dataset.Dataset'>\n",
      "model_weights/dense/dense/kernel:0         (128, 256) <class 'h5py._hl.dataset.Dataset'>\n",
      "model_weights/dense_1                                 <class 'h5py._hl.group.Group'>\n",
      "model_weights/dense_1/dense_1                         <class 'h5py._hl.group.Group'>\n",
      "model_weights/dense_1/dense_1/bias:0       (256,)     <class 'h5py._hl.dataset.Dataset'>\n",
      "model_weights/dense_1/dense_1/kernel:0     (256, 256) <class 'h5py._hl.dataset.Dataset'>\n",
      "model_weights/dense_2                                 <class 'h5py._hl.group.Group'>\n",
      "model_weights/dense_2/dense_2                         <class 'h5py._hl.group.Group'>\n",
      "model_weights/dense_2/dense_2/bias:0       (128,)     <class 'h5py._hl.dataset.Dataset'>\n",
      "model_weights/dense_2/dense_2/kernel:0     (256, 128) <class 'h5py._hl.dataset.Dataset'>\n",
      "optimizer_weights                                     <class 'h5py._hl.group.Group'>\n",
      "optimizer_weights/Adam                                <class 'h5py._hl.group.Group'>\n",
      "optimizer_weights/Adam/dense                          <class 'h5py._hl.group.Group'>\n",
      "optimizer_weights/Adam/dense/bias                     <class 'h5py._hl.group.Group'>\n",
      "optimizer_weights/Adam/dense/bias/m:0      (256,)     <class 'h5py._hl.dataset.Dataset'>\n",
      "optimizer_weights/Adam/dense/bias/v:0      (256,)     <class 'h5py._hl.dataset.Dataset'>\n",
      "optimizer_weights/Adam/dense/kernel                   <class 'h5py._hl.group.Group'>\n",
      "optimizer_weights/Adam/dense/kernel/m:0    (128, 256) <class 'h5py._hl.dataset.Dataset'>\n",
      "optimizer_weights/Adam/dense/kernel/v:0    (128, 256) <class 'h5py._hl.dataset.Dataset'>\n",
      "optimizer_weights/Adam/dense_1                        <class 'h5py._hl.group.Group'>\n",
      "optimizer_weights/Adam/dense_1/bias                   <class 'h5py._hl.group.Group'>\n",
      "optimizer_weights/Adam/dense_1/bias/m:0    (256,)     <class 'h5py._hl.dataset.Dataset'>\n",
      "optimizer_weights/Adam/dense_1/bias/v:0    (256,)     <class 'h5py._hl.dataset.Dataset'>\n",
      "optimizer_weights/Adam/dense_1/kernel                 <class 'h5py._hl.group.Group'>\n",
      "optimizer_weights/Adam/dense_1/kernel/m:0  (256, 256) <class 'h5py._hl.dataset.Dataset'>\n",
      "optimizer_weights/Adam/dense_1/kernel/v:0  (256, 256) <class 'h5py._hl.dataset.Dataset'>\n",
      "optimizer_weights/Adam/dense_2                        <class 'h5py._hl.group.Group'>\n",
      "optimizer_weights/Adam/dense_2/bias                   <class 'h5py._hl.group.Group'>\n",
      "optimizer_weights/Adam/dense_2/bias/m:0    (128,)     <class 'h5py._hl.dataset.Dataset'>\n",
      "optimizer_weights/Adam/dense_2/bias/v:0    (128,)     <class 'h5py._hl.dataset.Dataset'>\n",
      "optimizer_weights/Adam/dense_2/kernel                 <class 'h5py._hl.group.Group'>\n",
      "optimizer_weights/Adam/dense_2/kernel/m:0  (256, 128) <class 'h5py._hl.dataset.Dataset'>\n",
      "optimizer_weights/Adam/dense_2/kernel/v:0  (256, 128) <class 'h5py._hl.dataset.Dataset'>\n",
      "optimizer_weights/Adam/iter:0              ()         <class 'h5py._hl.dataset.Dataset'>\n"
     ]
    }
   ],
   "source": [
    "import h5py\n",
    "\n",
    "model_file = h5py.File(model_filename, 'r')\n",
    "\n",
    "\n",
    "def print_obj(name, obj):\n",
    "    info = ''\n",
    "    if isinstance(obj, h5py._hl.dataset.Dataset):\n",
    "        info = str(obj.shape)\n",
    "    print('{:42s} {:10s} {}'.format(name, info, type(obj)))\n",
    "\n",
    "\n",
    "model_file.visititems(print_obj)\n",
    "\n",
    "model_file.close()"
   ]
  },
  {
   "cell_type": "code",
   "execution_count": 20,
   "metadata": {},
   "outputs": [],
   "source": []
  }
 ],
 "metadata": {
  "gist": {
   "data": {
    "description": "fluid_closure_learning-1d-data_generation.ipynb",
    "public": true
   },
   "id": ""
  },
  "kernelspec": {
   "display_name": "Python 3",
   "language": "python",
   "name": "python3"
  },
  "language_info": {
   "codemirror_mode": {
    "name": "ipython",
    "version": 3
   },
   "file_extension": ".py",
   "mimetype": "text/x-python",
   "name": "python",
   "nbconvert_exporter": "python",
   "pygments_lexer": "ipython3",
   "version": "3.7.7"
  },
  "varInspector": {
   "cols": {
    "lenName": 16,
    "lenType": 16,
    "lenVar": 40
   },
   "kernels_config": {
    "python": {
     "delete_cmd_postfix": "",
     "delete_cmd_prefix": "del ",
     "library": "var_list.py",
     "varRefreshCmd": "print(var_dic_list())"
    },
    "r": {
     "delete_cmd_postfix": ") ",
     "delete_cmd_prefix": "rm(",
     "library": "var_list.r",
     "varRefreshCmd": "cat(var_dic_list()) "
    }
   },
   "oldHeight": 122,
   "position": {
    "height": "144px",
    "left": "818px",
    "right": "20px",
    "top": "341px",
    "width": "350px"
   },
   "types_to_exclude": [
    "module",
    "function",
    "builtin_function_or_method",
    "instance",
    "_Feature"
   ],
   "varInspector_section_display": "block",
   "window_display": false
  }
 },
 "nbformat": 4,
 "nbformat_minor": 2
}
