{
 "cells": [
  {
   "cell_type": "code",
   "execution_count": 11,
   "metadata": {},
   "outputs": [],
   "source": [
    "%matplotlib inline\n",
    "import time\n",
    "import numpy as np\n",
    "from numpy import sqrt, cos, sin, pi\n",
    "from numpy.fft import fft, ifft, rfft, irfft\n",
    "import matplotlib.pyplot as plt\n",
    "from tqdm import tqdm"
   ]
  },
  {
   "cell_type": "code",
   "execution_count": 12,
   "metadata": {},
   "outputs": [],
   "source": [
    "import torch\n",
    "import torch.nn as nn\n",
    "import torch.nn.functional as F\n",
    "import torch.optim as optim"
   ]
  },
  {
   "cell_type": "markdown",
   "metadata": {},
   "source": [
    "### Generate data"
   ]
  },
  {
   "cell_type": "code",
   "execution_count": 13,
   "metadata": {},
   "outputs": [],
   "source": [
    "nsamples_train = 10000\n",
    "nsamples_test = 100\n",
    "nsamples = nsamples_train + nsamples_test"
   ]
  },
  {
   "cell_type": "code",
   "execution_count": 14,
   "metadata": {},
   "outputs": [],
   "source": [
    "# physics parameters that define the input (feature) and output (label)\n",
    "n0 = 1.\n",
    "vt = 1.\n",
    "chi1 = 2. / sqrt(pi)\n",
    "\n",
    "lx = 2. * pi\n",
    "nx = 128\n",
    "kmax = 8"
   ]
  },
  {
   "cell_type": "code",
   "execution_count": 15,
   "metadata": {
    "code_folding": []
   },
   "outputs": [],
   "source": [
    "def make_modes(x, kmax, magnitude=1.):\n",
    "    \"\"\"Make many sinusoidal modes with random amplitudes and phases.\n",
    "\n",
    "    Args:\n",
    "        x: 1d spatial coordinates.\n",
    "        kmax: k = 1, 2, ..., kmax.\n",
    "\n",
    "    Returns:\n",
    "        modes: Superposition of all modes.\n",
    "    \"\"\"\n",
    "    A = np.random.random((kmax)) * magnitude\n",
    "    phi = np.random.random((kmax)) * pi * 2\n",
    "    modes = np.zeros_like(x)\n",
    "    for k in range(1, kmax):\n",
    "        A_k = A[k]\n",
    "        phi_k = phi[k]\n",
    "        modes += A_k * np.cos(k * x + phi_k)\n",
    "    return modes\n",
    "\n",
    "\n",
    "def make_training_data():\n",
    "    x = np.linspace(0, lx, nx)\n",
    "    k = np.fft.fftfreq(nx, d=lx/nx) * 2. * pi\n",
    "\n",
    "    T_all = []\n",
    "    q_all = []\n",
    "\n",
    "    coeff_q = -n0 * chi1 * sqrt(2) * vt * 1j * np.sign(k)\n",
    "\n",
    "    for isample in tqdm(range(nsamples)):\n",
    "        # Temperature flucutations in real space, T(x)\n",
    "        T = make_modes(x, kmax)\n",
    "        # Temperature fluctuations in Fourier spacer, T(k)\n",
    "        Tk = fft(T)\n",
    "        # heatflux fluctuation in Fourier space, q(k)\n",
    "        qk = coeff_q * Tk\n",
    "        # heatflux fluctuation in real space, q(x)\n",
    "        q = ifft(qk).real\n",
    "\n",
    "        # append real-space input/output of this sample\n",
    "        T_all.append(T)\n",
    "        q_all.append(q)\n",
    "\n",
    "    # convert to ndarray of shape (nsamples, nx)\n",
    "    T_all = np.array(T_all, dtype='f4')\n",
    "    q_all = np.array(q_all, dtype='f4')\n",
    "\n",
    "    return T_all, q_all\n",
    "\n",
    "\n",
    "def normalize(arr):\n",
    "    # all data have mean=0\n",
    "    # XXX use the same max\n",
    "    return arr / abs(arr).max()"
   ]
  },
  {
   "cell_type": "code",
   "execution_count": 16,
   "metadata": {
    "scrolled": true
   },
   "outputs": [
    {
     "name": "stderr",
     "output_type": "stream",
     "text": [
      "100%|██████████| 10100/10100 [00:01<00:00, 8025.27it/s]\n"
     ]
    }
   ],
   "source": [
    "T, q = make_training_data()"
   ]
  },
  {
   "cell_type": "code",
   "execution_count": 17,
   "metadata": {},
   "outputs": [],
   "source": [
    "T = normalize(T)\n",
    "q = normalize(q)"
   ]
  },
  {
   "cell_type": "code",
   "execution_count": 25,
   "metadata": {},
   "outputs": [],
   "source": [
    "from torch import tensor"
   ]
  },
  {
   "cell_type": "code",
   "execution_count": 50,
   "metadata": {},
   "outputs": [],
   "source": [
    "# # using data loader?\n",
    "# train_inputs = torch.tensor(T[:nsamples_train, ...])\n",
    "# train_labels = torch.tensor(q[:nsamples_train, ...])\n",
    "\n",
    "test_inputs = torch.tensor(T[nsamples_train:, ...])\n",
    "test_labels = torch.tensor(q[nsamples_train:, ...])"
   ]
  },
  {
   "cell_type": "code",
   "execution_count": 32,
   "metadata": {},
   "outputs": [],
   "source": [
    "train_set = torch.utils.data.TensorDataset(\n",
    "    tensor(T[:nsamples_train, ...]),\n",
    "    tensor(q[:nsamples_train, ...]))"
   ]
  },
  {
   "cell_type": "code",
   "execution_count": 43,
   "metadata": {},
   "outputs": [],
   "source": [
    "test_set = torch.utils.data.TensorDataset(\n",
    "    tensor(T[nsamples_train:, ...]),\n",
    "    tensor(q[nsamples_train:, ...]))"
   ]
  },
  {
   "cell_type": "code",
   "execution_count": 39,
   "metadata": {},
   "outputs": [],
   "source": [
    "trainloader = torch.utils.data.DataLoader(train_set, batch_size=25,\n",
    "                                        shuffle=True, num_workers=2)"
   ]
  },
  {
   "cell_type": "markdown",
   "metadata": {},
   "source": [
    "### Create the model"
   ]
  },
  {
   "cell_type": "code",
   "execution_count": 40,
   "metadata": {},
   "outputs": [
    {
     "name": "stdout",
     "output_type": "stream",
     "text": [
      "Net(\n",
      "  (fc1): Linear(in_features=128, out_features=256, bias=True)\n",
      "  (fc2): Linear(in_features=256, out_features=256, bias=True)\n",
      "  (fc3): Linear(in_features=256, out_features=128, bias=True)\n",
      ")\n"
     ]
    }
   ],
   "source": [
    "class Net(nn.Module):\n",
    "    def __init__(self):\n",
    "        super(Net, self).__init__()\n",
    "        self.fc1 = nn.Linear(128, 256)\n",
    "        self.fc2 = nn.Linear(256, 256)\n",
    "        self.fc3 = nn.Linear(256, 128)\n",
    "\n",
    "    def forward(self, x):\n",
    "        x = F.relu(self.fc1(x))\n",
    "        x = F.relu(self.fc2(x))\n",
    "        x = self.fc3(x)  # FIXME linear?\n",
    "        return x\n",
    "\n",
    "\n",
    "net = Net()\n",
    "print(net)"
   ]
  },
  {
   "cell_type": "code",
   "execution_count": 41,
   "metadata": {},
   "outputs": [],
   "source": [
    "criterion = nn.L1Loss()  # mean abs error\n",
    "optimizer = optim.Adam(net.parameters(), lr=0.001)"
   ]
  },
  {
   "cell_type": "markdown",
   "metadata": {},
   "source": [
    "### Train the model"
   ]
  },
  {
   "cell_type": "code",
   "execution_count": 42,
   "metadata": {},
   "outputs": [
    {
     "name": "stdout",
     "output_type": "stream",
     "text": [
      "[0,     0] loss: 1.81056e-05\n",
      "[1,     0] loss: 1.47053e-06\n",
      "[2,     0] loss: 1.24319e-06\n",
      "[3,     0] loss: 1.0632e-06\n",
      "[4,     0] loss: 9.37631e-07\n",
      "[5,     0] loss: 9.41304e-07\n",
      "[6,     0] loss: 9.42084e-07\n",
      "[7,     0] loss: 7.57663e-07\n",
      "[8,     0] loss: 8.63147e-07\n",
      "[9,     0] loss: 8.89937e-07\n",
      "[10,     0] loss: 7.97555e-07\n",
      "[11,     0] loss: 7.39743e-07\n",
      "[12,     0] loss: 7.26357e-07\n",
      "[13,     0] loss: 7.0148e-07\n",
      "[14,     0] loss: 6.67163e-07\n",
      "[15,     0] loss: 7.94961e-07\n",
      "[16,     0] loss: 7.52054e-07\n",
      "[17,     0] loss: 6.24195e-07\n",
      "[18,     0] loss: 7.86905e-07\n",
      "[19,     0] loss: 5.97876e-07\n",
      "[20,     0] loss: 6.52648e-07\n",
      "[21,     0] loss: 5.46621e-07\n",
      "[22,     0] loss: 7.25494e-07\n",
      "[23,     0] loss: 6.31933e-07\n",
      "[24,     0] loss: 8.36881e-07\n",
      "[25,     0] loss: 6.14835e-07\n",
      "[26,     0] loss: 5.94146e-07\n",
      "[27,     0] loss: 5.14433e-07\n",
      "[28,     0] loss: 5.92534e-07\n",
      "[29,     0] loss: 5.18678e-07\n",
      "[30,     0] loss: 5.33439e-07\n",
      "[31,     0] loss: 5.90773e-07\n",
      "[32,     0] loss: 5.90697e-07\n",
      "[33,     0] loss: 5.05017e-07\n",
      "[34,     0] loss: 5.48613e-07\n",
      "[35,     0] loss: 4.56232e-07\n",
      "[36,     0] loss: 5.06145e-07\n",
      "[37,     0] loss: 5.50695e-07\n",
      "[38,     0] loss: 4.84129e-07\n",
      "[39,     0] loss: 6.13077e-07\n",
      "[40,     0] loss: 4.16759e-07\n",
      "[41,     0] loss: 5.08885e-07\n",
      "[42,     0] loss: 5.26379e-07\n",
      "[43,     0] loss: 4.49103e-07\n",
      "[44,     0] loss: 5.38682e-07\n",
      "[45,     0] loss: 4.47914e-07\n",
      "[46,     0] loss: 4.86562e-07\n",
      "[47,     0] loss: 4.27787e-07\n",
      "[48,     0] loss: 4.17035e-07\n",
      "[49,     0] loss: 4.64637e-07\n",
      "[50,     0] loss: 4.67044e-07\n",
      "[51,     0] loss: 4.4242e-07\n",
      "[52,     0] loss: 4.16207e-07\n",
      "[53,     0] loss: 4.63964e-07\n",
      "[54,     0] loss: 4.37569e-07\n",
      "[55,     0] loss: 5.35528e-07\n",
      "[56,     0] loss: 4.72179e-07\n",
      "[57,     0] loss: 4.58166e-07\n",
      "[58,     0] loss: 4.14574e-07\n",
      "[59,     0] loss: 4.67301e-07\n",
      "[60,     0] loss: 4.82879e-07\n",
      "[61,     0] loss: 3.99851e-07\n",
      "[62,     0] loss: 4.10022e-07\n",
      "[63,     0] loss: 4.42141e-07\n",
      "[64,     0] loss: 4.31301e-07\n",
      "[65,     0] loss: 3.96787e-07\n",
      "[66,     0] loss: 4.2254e-07\n",
      "[67,     0] loss: 4.40492e-07\n",
      "[68,     0] loss: 4.22882e-07\n",
      "[69,     0] loss: 4.11549e-07\n",
      "[70,     0] loss: 4.6278e-07\n",
      "[71,     0] loss: 4.37061e-07\n",
      "[72,     0] loss: 4.44765e-07\n",
      "[73,     0] loss: 3.59322e-07\n",
      "[74,     0] loss: 4.18667e-07\n",
      "[75,     0] loss: 4.37222e-07\n",
      "[76,     0] loss: 4.20985e-07\n",
      "[77,     0] loss: 4.83301e-07\n",
      "[78,     0] loss: 4.07031e-07\n",
      "[79,     0] loss: 4.06793e-07\n",
      "[80,     0] loss: 4.17054e-07\n",
      "[81,     0] loss: 4.36192e-07\n",
      "[82,     0] loss: 3.74235e-07\n",
      "[83,     0] loss: 4.39687e-07\n",
      "[84,     0] loss: 3.75016e-07\n",
      "[85,     0] loss: 4.39925e-07\n",
      "[86,     0] loss: 3.96124e-07\n",
      "[87,     0] loss: 3.63239e-07\n",
      "[88,     0] loss: 4.07276e-07\n",
      "[89,     0] loss: 3.7487e-07\n",
      "[90,     0] loss: 3.68781e-07\n",
      "[91,     0] loss: 3.78827e-07\n",
      "[92,     0] loss: 4.3339e-07\n",
      "[93,     0] loss: 3.97328e-07\n",
      "[94,     0] loss: 3.41564e-07\n",
      "[95,     0] loss: 3.42679e-07\n",
      "[96,     0] loss: 3.80443e-07\n",
      "[97,     0] loss: 3.51161e-07\n",
      "[98,     0] loss: 3.66353e-07\n",
      "[99,     0] loss: 3.91021e-07\n",
      "Finished Training\n"
     ]
    }
   ],
   "source": [
    "nepochs = 100\n",
    "\n",
    "for epoch in range(nepochs):\n",
    "\n",
    "    running_loss = 0.0\n",
    "#     for i in range(nbatches):\n",
    "#         inputs = train_inputs[i*batch_size:(i+1)*batch_size, ...]\n",
    "#         labels = train_labels[i*batch_size:(i+1)*batch_size, ...]\n",
    "    for i, data in enumerate(trainloader, 0):\n",
    "        # get the inputs; data is a list of [inputs, labels]\n",
    "        inputs, labels = data\n",
    "        optimizer.zero_grad()\n",
    "\n",
    "        # forward + backward + optimize\n",
    "        outputs = net(inputs)\n",
    "        loss = criterion(outputs, labels)\n",
    "        loss.backward()\n",
    "        optimizer.step()\n",
    "\n",
    "        running_loss += loss.item()\n",
    "        if i % 10000 == 0:\n",
    "            print('[%d, %5d] loss: %g' %\n",
    "                  (epoch, i, running_loss / 10000))\n",
    "            running_loss = 0.0\n",
    "\n",
    "print('Finished Training')"
   ]
  },
  {
   "cell_type": "code",
   "execution_count": 49,
   "metadata": {},
   "outputs": [
    {
     "data": {
      "text/plain": [
       "100"
      ]
     },
     "execution_count": 49,
     "metadata": {},
     "output_type": "execute_result"
    }
   ],
   "source": [
    "len(test_set)"
   ]
  },
  {
   "cell_type": "code",
   "execution_count": 51,
   "metadata": {},
   "outputs": [
    {
     "data": {
      "image/png": "[encoded data removed]",
      "text/plain": [
       "<Figure size 432x288 with 1 Axes>"
      ]
     },
     "metadata": {
      "needs_background": "light"
     },
     "output_type": "display_data"
    }
   ],
   "source": [
    "with torch.no_grad():  # test only, do not nudge the model\n",
    "    test_labels_pred = net(test_inputs)\n",
    "    for i in range(1):\n",
    "        plt.plot(test_labels[0, ...])\n",
    "        plt.plot(test_labels_pred[0, ...])"
   ]
  },
  {
   "cell_type": "code",
   "execution_count": null,
   "metadata": {},
   "outputs": [],
   "source": []
  }
 ],
 "metadata": {
  "gist": {
   "data": {
    "description": "fluid_closure_learning-1d-data_generation.ipynb",
    "public": true
   },
   "id": ""
  },
  "kernelspec": {
   "display_name": "Python 3",
   "language": "python",
   "name": "python3"
  },
  "language_info": {
   "codemirror_mode": {
    "name": "ipython",
    "version": 3
   },
   "file_extension": ".py",
   "mimetype": "text/x-python",
   "name": "python",
   "nbconvert_exporter": "python",
   "pygments_lexer": "ipython3",
   "version": "3.6.10"
  },
  "varInspector": {
   "cols": {
    "lenName": 16,
    "lenType": 16,
    "lenVar": 40
   },
   "kernels_config": {
    "python": {
     "delete_cmd_postfix": "",
     "delete_cmd_prefix": "del ",
     "library": "var_list.py",
     "varRefreshCmd": "print(var_dic_list())"
    },
    "r": {
     "delete_cmd_postfix": ") ",
     "delete_cmd_prefix": "rm(",
     "library": "var_list.r",
     "varRefreshCmd": "cat(var_dic_list()) "
    }
   },
   "oldHeight": 122,
   "position": {
    "height": "144px",
    "left": "818px",
    "right": "20px",
    "top": "341px",
    "width": "350px"
   },
   "types_to_exclude": [
    "module",
    "function",
    "builtin_function_or_method",
    "instance",
    "_Feature"
   ],
   "varInspector_section_display": "block",
   "window_display": false
  }
 },
 "nbformat": 4,
 "nbformat_minor": 4
}
