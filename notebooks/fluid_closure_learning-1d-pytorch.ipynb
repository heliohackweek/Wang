{
 "cells": [
  {
   "cell_type": "code",
   "execution_count": 1,
   "metadata": {},
   "outputs": [],
   "source": [
    "%matplotlib inline\n",
    "import time\n",
    "import numpy as np\n",
    "from numpy import sqrt, cos, sin, pi\n",
    "from numpy.fft import fft, ifft, rfft, irfft\n",
    "import matplotlib.pyplot as plt\n",
    "from tqdm import tqdm"
   ]
  },
  {
   "cell_type": "code",
   "execution_count": 2,
   "metadata": {},
   "outputs": [],
   "source": [
    "import torch\n",
    "import torch.nn as nn\n",
    "import torch.nn.functional as F\n",
    "import torch.optim as optim"
   ]
  },
  {
   "cell_type": "markdown",
   "metadata": {},
   "source": [
    "### Generate data"
   ]
  },
  {
   "cell_type": "code",
   "execution_count": 3,
   "metadata": {},
   "outputs": [],
   "source": [
    "nsamples_train = 10000\n",
    "nsamples_test = 100\n",
    "nsamples = nsamples_train + nsamples_test"
   ]
  },
  {
   "cell_type": "code",
   "execution_count": 4,
   "metadata": {},
   "outputs": [],
   "source": [
    "# physics parameters that define the input (feature) and output (label)\n",
    "n0 = 1.\n",
    "vt = 1.\n",
    "chi1 = 2. / sqrt(pi)\n",
    "\n",
    "lx = 2. * pi\n",
    "nx = 128\n",
    "kmax = 8"
   ]
  },
  {
   "cell_type": "code",
   "execution_count": 5,
   "metadata": {
    "code_folding": [],
    "scrolled": false
   },
   "outputs": [],
   "source": [
    "def make_modes(x, kmax, magnitude=1.):\n",
    "    \"\"\"Make many sinusoidal modes with random amplitudes and phases.\n",
    "\n",
    "    Args:\n",
    "        x: 1d spatial coordinates.\n",
    "        kmax: k = 1, 2, ..., kmax.\n",
    "\n",
    "    Returns:\n",
    "        modes: Superposition of all modes.\n",
    "    \"\"\"\n",
    "    A = np.random.random((kmax)) * magnitude\n",
    "    phi = np.random.random((kmax)) * pi * 2\n",
    "    modes = np.zeros_like(x)\n",
    "    for k in range(1, kmax):\n",
    "        A_k = A[k]\n",
    "        phi_k = phi[k]\n",
    "        modes += A_k * np.cos(k * x + phi_k)\n",
    "    return modes\n",
    "\n",
    "\n",
    "def make_training_data():\n",
    "    x = np.linspace(0, lx, nx)\n",
    "    k = np.fft.fftfreq(nx, d=lx/nx) * 2. * pi\n",
    "\n",
    "    T_all = []\n",
    "    q_all = []\n",
    "\n",
    "    coeff_q = -n0 * chi1 * sqrt(2) * vt * 1j * np.sign(k)\n",
    "\n",
    "    for isample in tqdm(range(nsamples)):\n",
    "        # Temperature flucutations in real space, T(x)\n",
    "        T = make_modes(x, kmax)\n",
    "        # Temperature fluctuations in Fourier spacer, T(k)\n",
    "        Tk = fft(T)\n",
    "        # heatflux fluctuation in Fourier space, q(k)\n",
    "        qk = coeff_q * Tk\n",
    "        # heatflux fluctuation in real space, q(x)\n",
    "        q = ifft(qk).real\n",
    "\n",
    "        # append real-space input/output of this sample\n",
    "        T_all.append(T)\n",
    "        q_all.append(q)\n",
    "\n",
    "    # convert to ndarray of shape (nsamples, nx)\n",
    "    T_all = np.array(T_all, dtype='f4')\n",
    "    q_all = np.array(q_all, dtype='f4')\n",
    "\n",
    "    return T_all, q_all\n",
    "\n",
    "\n",
    "def normalize(arr):\n",
    "    # all data have mean=0\n",
    "    # XXX use the same max\n",
    "    return arr / abs(arr).max()"
   ]
  },
  {
   "cell_type": "code",
   "execution_count": 6,
   "metadata": {
    "scrolled": true
   },
   "outputs": [
    {
     "name": "stderr",
     "output_type": "stream",
     "text": [
      "100%|██████████| 10100/10100 [00:01<00:00, 9074.15it/s]\n"
     ]
    }
   ],
   "source": [
    "T, q = make_training_data()"
   ]
  },
  {
   "cell_type": "code",
   "execution_count": 7,
   "metadata": {},
   "outputs": [],
   "source": [
    "T = normalize(T)\n",
    "q = normalize(q)"
   ]
  },
  {
   "cell_type": "code",
   "execution_count": 8,
   "metadata": {},
   "outputs": [],
   "source": [
    "# using data loader?\n",
    "train_inputs = torch.tensor(T[:nsamples_train, ...])\n",
    "train_labels = torch.tensor(q[:nsamples_train, ...])\n",
    "\n",
    "test_inputs = torch.tensor(T[nsamples_train:, ...])\n",
    "test_labels = torch.tensor(q[nsamples_train:, ...])"
   ]
  },
  {
   "cell_type": "markdown",
   "metadata": {},
   "source": [
    "### Create the model"
   ]
  },
  {
   "cell_type": "code",
   "execution_count": 9,
   "metadata": {},
   "outputs": [
    {
     "name": "stdout",
     "output_type": "stream",
     "text": [
      "Net(\n",
      "  (fc1): Linear(in_features=128, out_features=256, bias=True)\n",
      "  (fc2): Linear(in_features=256, out_features=256, bias=True)\n",
      "  (fc3): Linear(in_features=256, out_features=128, bias=True)\n",
      ")\n"
     ]
    }
   ],
   "source": [
    "class Net(nn.Module):\n",
    "    def __init__(self):\n",
    "        super(Net, self).__init__()\n",
    "        self.fc1 = nn.Linear(128, 256)\n",
    "        self.fc2 = nn.Linear(256, 256)\n",
    "        self.fc3 = nn.Linear(256, 128)\n",
    "\n",
    "    def forward(self, x):\n",
    "        x = F.relu(self.fc1(x))\n",
    "        x = F.relu(self.fc2(x))\n",
    "        x = self.fc3(x)  # FIXME linear?\n",
    "        return x\n",
    "\n",
    "\n",
    "net = Net()\n",
    "print(net)"
   ]
  },
  {
   "cell_type": "code",
   "execution_count": 10,
   "metadata": {},
   "outputs": [],
   "source": [
    "criterion = nn.L1Loss()\n",
    "optimizer = optim.Adam(net.parameters(), lr=0.001)"
   ]
  },
  {
   "cell_type": "markdown",
   "metadata": {},
   "source": [
    "### Train the model"
   ]
  },
  {
   "cell_type": "code",
   "execution_count": 13,
   "metadata": {
    "scrolled": false
   },
   "outputs": [
    {
     "name": "stdout",
     "output_type": "stream",
     "text": [
      "[0,     0] loss: 9.58969e-06\n",
      "[1,     0] loss: 1.00488e-05\n",
      "[2,     0] loss: 1.08726e-05\n",
      "[3,     0] loss: 9.12489e-06\n",
      "[4,     0] loss: 1.0125e-05\n",
      "[5,     0] loss: 1.07594e-05\n",
      "[6,     0] loss: 1.1278e-05\n",
      "[7,     0] loss: 9.19167e-06\n",
      "[8,     0] loss: 9.58581e-06\n",
      "[9,     0] loss: 1.03665e-05\n",
      "[10,     0] loss: 9.43328e-06\n",
      "[11,     0] loss: 9.37743e-06\n",
      "[12,     0] loss: 9.73665e-06\n",
      "[13,     0] loss: 9.80819e-06\n",
      "[14,     0] loss: 9.27033e-06\n",
      "[15,     0] loss: 9.12873e-06\n",
      "[16,     0] loss: 1.03351e-05\n",
      "[17,     0] loss: 9.00218e-06\n",
      "[18,     0] loss: 1.01652e-05\n",
      "[19,     0] loss: 9.29228e-06\n",
      "[20,     0] loss: 1.03338e-05\n",
      "[21,     0] loss: 9.86501e-06\n",
      "[22,     0] loss: 9.82569e-06\n",
      "[23,     0] loss: 8.95234e-06\n",
      "[24,     0] loss: 9.38e-06\n",
      "[25,     0] loss: 8.9979e-06\n",
      "[26,     0] loss: 9.29497e-06\n",
      "[27,     0] loss: 9.84057e-06\n",
      "[28,     0] loss: 9.88921e-06\n",
      "[29,     0] loss: 9.0964e-06\n",
      "[30,     0] loss: 9.9069e-06\n",
      "[31,     0] loss: 9.75786e-06\n",
      "[32,     0] loss: 8.36573e-06\n",
      "[33,     0] loss: 8.89268e-06\n",
      "[34,     0] loss: 8.60505e-06\n",
      "[35,     0] loss: 9.07934e-06\n",
      "[36,     0] loss: 9.34137e-06\n",
      "[37,     0] loss: 9.05894e-06\n",
      "[38,     0] loss: 8.67756e-06\n",
      "[39,     0] loss: 8.48598e-06\n",
      "[40,     0] loss: 9.24672e-06\n",
      "[41,     0] loss: 9.08958e-06\n",
      "[42,     0] loss: 8.93276e-06\n",
      "[43,     0] loss: 9.53106e-06\n",
      "[44,     0] loss: 9.04503e-06\n",
      "[45,     0] loss: 9.54491e-06\n",
      "[46,     0] loss: 9.87724e-06\n",
      "[47,     0] loss: 9.3584e-06\n",
      "[48,     0] loss: 8.69299e-06\n",
      "[49,     0] loss: 9.51219e-06\n",
      "[50,     0] loss: 8.84315e-06\n",
      "[51,     0] loss: 7.61148e-06\n",
      "[52,     0] loss: 8.88252e-06\n",
      "[53,     0] loss: 8.61753e-06\n",
      "[54,     0] loss: 9.36311e-06\n",
      "[55,     0] loss: 8.10643e-06\n",
      "[56,     0] loss: 8.80213e-06\n",
      "[57,     0] loss: 9.24616e-06\n",
      "[58,     0] loss: 8.36387e-06\n",
      "[59,     0] loss: 9.62847e-06\n",
      "[60,     0] loss: 7.61891e-06\n",
      "[61,     0] loss: 8.32554e-06\n",
      "[62,     0] loss: 9.2728e-06\n",
      "[63,     0] loss: 9.30009e-06\n",
      "[64,     0] loss: 8.41457e-06\n",
      "[65,     0] loss: 8.11742e-06\n",
      "[66,     0] loss: 7.92359e-06\n",
      "[67,     0] loss: 9.90784e-06\n",
      "[68,     0] loss: 8.14575e-06\n",
      "[69,     0] loss: 8.49457e-06\n",
      "[70,     0] loss: 8.19627e-06\n",
      "[71,     0] loss: 8.56432e-06\n",
      "[72,     0] loss: 8.34508e-06\n",
      "[73,     0] loss: 9.01216e-06\n",
      "[74,     0] loss: 8.36892e-06\n",
      "[75,     0] loss: 8.45401e-06\n",
      "[76,     0] loss: 1.04212e-05\n",
      "[77,     0] loss: 8.34757e-06\n",
      "[78,     0] loss: 8.16087e-06\n",
      "[79,     0] loss: 8.42834e-06\n",
      "[80,     0] loss: 9.30351e-06\n",
      "[81,     0] loss: 8.27614e-06\n",
      "[82,     0] loss: 8.57591e-06\n",
      "[83,     0] loss: 8.94581e-06\n",
      "[84,     0] loss: 8.13949e-06\n",
      "[85,     0] loss: 7.8835e-06\n",
      "[86,     0] loss: 8.81922e-06\n",
      "[87,     0] loss: 8.13645e-06\n",
      "[88,     0] loss: 8.48152e-06\n",
      "[89,     0] loss: 8.62807e-06\n",
      "[90,     0] loss: 8.73704e-06\n",
      "[91,     0] loss: 8.91565e-06\n",
      "[92,     0] loss: 8.83841e-06\n",
      "[93,     0] loss: 8.19579e-06\n",
      "[94,     0] loss: 8.79192e-06\n",
      "[95,     0] loss: 9.3103e-06\n",
      "[96,     0] loss: 7.85793e-06\n",
      "[97,     0] loss: 8.66921e-06\n",
      "[98,     0] loss: 9.1444e-06\n",
      "[99,     0] loss: 8.37228e-06\n",
      "Finished Training\n"
     ]
    }
   ],
   "source": [
    "nepochs = 100\n",
    "batch_size = 25\n",
    "nbatches = train_inputs.shape[0] // batch_size\n",
    "\n",
    "for epoch in range(nepochs):\n",
    "\n",
    "    running_loss = 0.0\n",
    "    for i in range(nbatches):\n",
    "        inputs = train_inputs[i*batch_size:(i+1)*batch_size, ...]\n",
    "        labels = train_labels[i*batch_size:(i+1)*batch_size, ...]\n",
    "        optimizer.zero_grad()\n",
    "\n",
    "        # forward + backward + optimize\n",
    "        outputs = net(inputs)\n",
    "        loss = criterion(outputs, labels)\n",
    "        loss.backward()\n",
    "        optimizer.step()\n",
    "\n",
    "        running_loss += loss.item()\n",
    "        if i % nbatches == 0:\n",
    "            print('[%d, %5d] loss: %g' %\n",
    "                  (epoch, i, running_loss / nbatches))\n",
    "            running_loss = 0.0\n",
    "\n",
    "print('Finished Training')"
   ]
  },
  {
   "cell_type": "code",
   "execution_count": 14,
   "metadata": {},
   "outputs": [
    {
     "data": {
      "image/png": "[encoded data removed]",
      "text/plain": [
       "<Figure size 432x288 with 1 Axes>"
      ]
     },
     "metadata": {
      "needs_background": "light"
     },
     "output_type": "display_data"
    }
   ],
   "source": [
    "with torch.no_grad():  # test only, do not nudge the model\n",
    "    test_labels_pred = net(test_inputs)\n",
    "    for i in range(1):\n",
    "        plt.plot(test_labels[0, ...])\n",
    "        plt.plot(test_labels_pred[0, ...])"
   ]
  }
 ],
 "metadata": {
  "gist": {
   "data": {
    "description": "fluid_closure_learning-1d-data_generation.ipynb",
    "public": true
   },
   "id": ""
  },
  "kernelspec": {
   "display_name": "Python 3",
   "language": "python",
   "name": "python3"
  },
  "language_info": {
   "codemirror_mode": {
    "name": "ipython",
    "version": 3
   },
   "file_extension": ".py",
   "mimetype": "text/x-python",
   "name": "python",
   "nbconvert_exporter": "python",
   "pygments_lexer": "ipython3",
   "version": "3.7.7"
  },
  "varInspector": {
   "cols": {
    "lenName": 16,
    "lenType": 16,
    "lenVar": 40
   },
   "kernels_config": {
    "python": {
     "delete_cmd_postfix": "",
     "delete_cmd_prefix": "del ",
     "library": "var_list.py",
     "varRefreshCmd": "print(var_dic_list())"
    },
    "r": {
     "delete_cmd_postfix": ") ",
     "delete_cmd_prefix": "rm(",
     "library": "var_list.r",
     "varRefreshCmd": "cat(var_dic_list()) "
    }
   },
   "oldHeight": 122,
   "position": {
    "height": "144px",
    "left": "818px",
    "right": "20px",
    "top": "341px",
    "width": "350px"
   },
   "types_to_exclude": [
    "module",
    "function",
    "builtin_function_or_method",
    "instance",
    "_Feature"
   ],
   "varInspector_section_display": "block",
   "window_display": false
  }
 },
 "nbformat": 4,
 "nbformat_minor": 2
}
