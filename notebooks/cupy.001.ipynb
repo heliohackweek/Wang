{
 "cells": [
  {
   "cell_type": "code",
   "execution_count": 1,
   "metadata": {},
   "outputs": [],
   "source": [
    "NUMPY_EXPERIMENTAL_ARRAY_FUNCTION = 1  # FIXME is this needed?"
   ]
  },
  {
   "cell_type": "code",
   "execution_count": 2,
   "metadata": {},
   "outputs": [],
   "source": [
    "import numpy as np\n",
    "import cupy\n",
    "import cupy as cp\n",
    "import matplotlib.pyplot as plt\n",
    "from string import Template\n",
    "from math import sin, cos, atan2, sqrt"
   ]
  },
  {
   "cell_type": "code",
   "execution_count": 3,
   "metadata": {},
   "outputs": [],
   "source": [
    "import numba\n",
    "from numba import jit, njit, prange"
   ]
  },
  {
   "cell_type": "code",
   "execution_count": 4,
   "metadata": {},
   "outputs": [
    {
     "name": "stdout",
     "output_type": "stream",
     "text": [
      "<CUDA Device 0>\n"
     ]
    }
   ],
   "source": [
    "print(cupy.cuda.Device())"
   ]
  },
  {
   "cell_type": "markdown",
   "metadata": {},
   "source": [
    "### Data residency"
   ]
  },
  {
   "cell_type": "code",
   "execution_count": 5,
   "metadata": {},
   "outputs": [],
   "source": [
    "x_cpu = np.linspace(0, 1, 1000)\n",
    "x_gpu = cupy.asarray(x_cpu)\n",
    "# x_gpu = cp.linspace(0, 1, 1000)"
   ]
  },
  {
   "cell_type": "code",
   "execution_count": 6,
   "metadata": {},
   "outputs": [
    {
     "data": {
      "text/plain": [
       "[<matplotlib.lines.Line2D at 0x7f56e117ce80>]"
      ]
     },
     "execution_count": 6,
     "metadata": {},
     "output_type": "execute_result"
    },
    {
     "data": {
      "image/png": "[encoded data removed]",
      "text/plain": [
       "<Figure size 864x216 with 3 Axes>"
      ]
     },
     "metadata": {
      "needs_background": "light"
     },
     "output_type": "display_data"
    }
   ],
   "source": [
    "fig, axs = plt.subplots(1, 3, figsize=(12, 3))\n",
    "\n",
    "# axs[0].plot(x_gpu, marker='o')  # error, mpl cannot work on gpu data\n",
    "axs[0].plot(x_gpu.get(), marker='o')\n",
    "\n",
    "# mask gpu array using gpu data\n",
    "x_gpu[(x_gpu>0.3) & (x_gpu<0.5)] = 0\n",
    "axs[1].plot(x_gpu.get(), marker='o')\n",
    "\n",
    "# mask gpu array using cpu data\n",
    "x_gpu[(x_cpu>0.6) & (x_cpu<0.7)] = 1\n",
    "axs[2].plot(x_gpu.get(), marker='o')"
   ]
  },
  {
   "cell_type": "code",
   "execution_count": 7,
   "metadata": {},
   "outputs": [
    {
     "data": {
      "text/plain": [
       "cupy.core.core.ndarray"
      ]
     },
     "execution_count": 7,
     "metadata": {},
     "output_type": "execute_result"
    }
   ],
   "source": [
    "x_test = np.empty_like(x_gpu)\n",
    "type(x_test)"
   ]
  },
  {
   "cell_type": "code",
   "execution_count": 8,
   "metadata": {},
   "outputs": [
    {
     "data": {
      "text/plain": [
       "[<matplotlib.lines.Line2D at 0x7f56e09f69b0>]"
      ]
     },
     "execution_count": 8,
     "metadata": {},
     "output_type": "execute_result"
    },
    {
     "data": {
      "image/png": "[encoded data removed]",
      "text/plain": [
       "<Figure size 432x288 with 1 Axes>"
      ]
     },
     "metadata": {
      "needs_background": "light"
     },
     "output_type": "display_data"
    }
   ],
   "source": [
    "x_test = np.empty(x_gpu.shape)\n",
    "x_gpu.get(out=x_test)\n",
    "plt.plot(x_test, marker='o')"
   ]
  },
  {
   "cell_type": "markdown",
   "metadata": {},
   "source": [
    "### Basic calculations"
   ]
  },
  {
   "cell_type": "code",
   "execution_count": 37,
   "metadata": {},
   "outputs": [],
   "source": [
    "x_cpu = np.linspace(0, 1, int(1e6))\n",
    "x_gpu = cupy.asarray(x_cpu)"
   ]
  },
  {
   "cell_type": "code",
   "execution_count": 36,
   "metadata": {},
   "outputs": [],
   "source": [
    "@jit\n",
    "def sin_numba(x):\n",
    "    return np.sin(x)"
   ]
  },
  {
   "cell_type": "markdown",
   "metadata": {},
   "source": [
    "#### cos"
   ]
  },
  {
   "cell_type": "code",
   "execution_count": 28,
   "metadata": {},
   "outputs": [
    {
     "name": "stdout",
     "output_type": "stream",
     "text": [
      "10.6 ms ± 15.7 µs per loop (mean ± std. dev. of 7 runs, 100 loops each)\n"
     ]
    }
   ],
   "source": [
    "%timeit np.sin(x_cpu)"
   ]
  },
  {
   "cell_type": "code",
   "execution_count": 38,
   "metadata": {},
   "outputs": [
    {
     "name": "stdout",
     "output_type": "stream",
     "text": [
      "10.5 ms ± 2.34 µs per loop (mean ± std. dev. of 7 runs, 100 loops each)\n"
     ]
    }
   ],
   "source": [
    "%timeit sin_numba(x_cpu)"
   ]
  },
  {
   "cell_type": "code",
   "execution_count": 29,
   "metadata": {},
   "outputs": [
    {
     "name": "stdout",
     "output_type": "stream",
     "text": [
      "23 µs ± 24.6 ns per loop (mean ± std. dev. of 7 runs, 10000 loops each)\n"
     ]
    }
   ],
   "source": [
    "%timeit cupy.sin(x_gpu)"
   ]
  },
  {
   "cell_type": "code",
   "execution_count": 30,
   "metadata": {},
   "outputs": [
    {
     "name": "stdout",
     "output_type": "stream",
     "text": [
      "23 µs ± 7.04 ns per loop (mean ± std. dev. of 7 runs, 10000 loops each)\n"
     ]
    }
   ],
   "source": [
    "%timeit np.sin(x_gpu)"
   ]
  },
  {
   "cell_type": "markdown",
   "metadata": {},
   "source": [
    "#### sum"
   ]
  },
  {
   "cell_type": "code",
   "execution_count": 31,
   "metadata": {},
   "outputs": [
    {
     "name": "stdout",
     "output_type": "stream",
     "text": [
      "338 µs ± 174 ns per loop (mean ± std. dev. of 7 runs, 1000 loops each)\n"
     ]
    }
   ],
   "source": [
    "%timeit np.sum(x_cpu)"
   ]
  },
  {
   "cell_type": "code",
   "execution_count": 32,
   "metadata": {},
   "outputs": [
    {
     "name": "stdout",
     "output_type": "stream",
     "text": [
      "710 µs ± 29.4 ns per loop (mean ± std. dev. of 7 runs, 10000 loops each)\n"
     ]
    }
   ],
   "source": [
    "%timeit cupy.sum(x_gpu)"
   ]
  },
  {
   "cell_type": "code",
   "execution_count": 33,
   "metadata": {},
   "outputs": [
    {
     "name": "stdout",
     "output_type": "stream",
     "text": [
      "710 µs ± 129 ns per loop (mean ± std. dev. of 7 runs, 1000 loops each)\n"
     ]
    }
   ],
   "source": [
    "%timeit np.sum(x_gpu)"
   ]
  },
  {
   "cell_type": "markdown",
   "metadata": {},
   "source": [
    "### Shuffling a 2d array along the first dimension"
   ]
  },
  {
   "cell_type": "code",
   "execution_count": 19,
   "metadata": {},
   "outputs": [],
   "source": [
    "x_cpu = np.random.random((int(1e6), 6))\n",
    "x_gpu = cupy.asarray(x_cpu)"
   ]
  },
  {
   "cell_type": "code",
   "execution_count": 20,
   "metadata": {},
   "outputs": [],
   "source": [
    "@jit\n",
    "def shuffle_numba(x):\n",
    "    return np.random.shuffle(x)"
   ]
  },
  {
   "cell_type": "code",
   "execution_count": 21,
   "metadata": {
    "scrolled": false
   },
   "outputs": [
    {
     "name": "stdout",
     "output_type": "stream",
     "text": [
      "906 ms ± 8.87 ms per loop (mean ± std. dev. of 7 runs, 1 loop each)\n"
     ]
    }
   ],
   "source": [
    "%timeit np.random.shuffle(x_cpu)"
   ]
  },
  {
   "cell_type": "code",
   "execution_count": 22,
   "metadata": {},
   "outputs": [
    {
     "name": "stdout",
     "output_type": "stream",
     "text": [
      "158 ms ± 5.58 ms per loop (mean ± std. dev. of 7 runs, 1 loop each)\n"
     ]
    }
   ],
   "source": [
    "%timeit shuffle_numba(x_cpu)"
   ]
  },
  {
   "cell_type": "code",
   "execution_count": 23,
   "metadata": {},
   "outputs": [
    {
     "name": "stdout",
     "output_type": "stream",
     "text": [
      "445 µs ± 19 ns per loop (mean ± std. dev. of 7 runs, 1000 loops each)\n"
     ]
    }
   ],
   "source": [
    "%timeit cupy.random.shuffle(x_gpu)"
   ]
  },
  {
   "cell_type": "code",
   "execution_count": 26,
   "metadata": {},
   "outputs": [],
   "source": [
    "# %timeit np.random.shuffle(x_gpu)  # FIXME freezes"
   ]
  },
  {
   "cell_type": "markdown",
   "metadata": {},
   "source": [
    "### 1d histogram"
   ]
  },
  {
   "cell_type": "code",
   "execution_count": 34,
   "metadata": {},
   "outputs": [],
   "source": [
    "x_cpu = np.random.random((int(1e8)),)\n",
    "x_gpu = cupy.asarray(x_cpu)"
   ]
  },
  {
   "cell_type": "code",
   "execution_count": 35,
   "metadata": {},
   "outputs": [],
   "source": [
    "@jit\n",
    "def histogram_numba(x, bins):\n",
    "    return np.histogram(x, bins)"
   ]
  },
  {
   "cell_type": "code",
   "execution_count": 8,
   "metadata": {},
   "outputs": [
    {
     "name": "stdout",
     "output_type": "stream",
     "text": [
      "1.11 s ± 2.36 ms per loop (mean ± std. dev. of 7 runs, 1 loop each)\n"
     ]
    }
   ],
   "source": [
    "%timeit np.histogram(x_cpu, 50)"
   ]
  },
  {
   "cell_type": "code",
   "execution_count": 21,
   "metadata": {
    "scrolled": false
   },
   "outputs": [
    {
     "name": "stdout",
     "output_type": "stream",
     "text": [
      "246 ms ± 391 µs per loop (mean ± std. dev. of 7 runs, 1 loop each)\n"
     ]
    }
   ],
   "source": [
    "%timeit histogram_numba(x_cpu, 50)"
   ]
  },
  {
   "cell_type": "code",
   "execution_count": 9,
   "metadata": {
    "scrolled": false
   },
   "outputs": [
    {
     "name": "stdout",
     "output_type": "stream",
     "text": [
      "207 ms ± 3.63 ms per loop (mean ± std. dev. of 7 runs, 1 loop each)\n"
     ]
    }
   ],
   "source": [
    "%timeit cupy.histogram(x_gpu, 50)"
   ]
  },
  {
   "cell_type": "code",
   "execution_count": 10,
   "metadata": {},
   "outputs": [
    {
     "name": "stdout",
     "output_type": "stream",
     "text": [
      "206 ms ± 34.9 µs per loop (mean ± std. dev. of 7 runs, 1 loop each)\n"
     ]
    }
   ],
   "source": [
    "%timeit np.histogram(x_gpu, 50)"
   ]
  },
  {
   "cell_type": "markdown",
   "metadata": {},
   "source": [
    "### Element-wise operations\n",
    "- In this example, our cpu \"kernel\" is written in pure NumPy and all sub-function arguments are numpy.ndaray of shape (3, number_of_vectors).\n",
    "- This way, we do not need to modify the kernel at all according to the [cupy documentation on interpolerability](https://docs.cupy.dev/en/stable/reference/interoperability.html#numpy):\n",
    "\n",
    "> <div>cupy.ndarray implements __array_ufunc__ interface (see NEP 13 — A Mechanism for Overriding Ufuncs for details). This enables NumPy ufuncs to be directly operated on CuPy arrays. __array_ufunc__ feature requires NumPy 1.13 or later.</div>"
   ]
  },
  {
   "cell_type": "code",
   "execution_count": 2,
   "metadata": {},
   "outputs": [],
   "source": [
    "# \"vectors\" below are 2d numpy arrays of shape (3, number_of_vectors)\n",
    "\n",
    "\n",
    "def mag(v):\n",
    "    return np.linalg.norm(v, axis=0)\n",
    "\n",
    "\n",
    "def unit(v):\n",
    "    return v / np.linalg.norm(v, axis=0)\n",
    "\n",
    "\n",
    "# # the following code seems 10% faster for cpu, but similar for gpu\n",
    "# def pwr(v):\n",
    "#     return v[0, :]**2 + v[1, :]**2 + v[2, :]**2\n",
    "\n",
    "\n",
    "# def mag(v):\n",
    "#     return np.sqrt(pwr(v))\n",
    "\n",
    "\n",
    "# def unit(v):\n",
    "#     return v / mag(v)\n",
    "\n",
    "\n",
    "def inner(v1, v2):\n",
    "    #     return v1[0, :]*v2[0, :] + v1[1, :]*v2[1, :] + v1[2, :]*v2[2, :]\n",
    "    return np.sum(v1 * v2, axis=0)\n",
    "\n",
    "\n",
    "def cross(v1, v2):\n",
    "    return np.cross(v1, v2, axisa=0, axisb=0, axisc=0)\n",
    "\n",
    "\n",
    "# the \"kernel\"\n",
    "def kernel(x1, x2, v1, v2):\n",
    "    dv = v1 - v2\n",
    "    v_avg = 0.5 * (v1 + v2)\n",
    "    dv_perp = cross(v_avg, cross(dv, v_avg))\n",
    "\n",
    "    l_unit = unit(v_avg)\n",
    "    m_unit = unit(dv_perp)\n",
    "    n_unit = cross(l_unit, m_unit)\n",
    "\n",
    "    dx = x1 - x2\n",
    "    l = inner(l_unit, dx)\n",
    "    m = inner(m_unit, dx)\n",
    "    n = inner(n_unit, dx)\n",
    "\n",
    "    result = (mag(dv))**2\n",
    "    \n",
    "    return l, m, n, result"
   ]
  },
  {
   "cell_type": "code",
   "execution_count": 3,
   "metadata": {},
   "outputs": [],
   "source": [
    "Nsamples = int(1e6)\n",
    "xyz1 = np.random.random((3, Nsamples))\n",
    "xyz2 = np.random.random((3, Nsamples))\n",
    "vxyz1 = np.random.random((3, Nsamples))\n",
    "vxyz2 = np.random.random((3, Nsamples))"
   ]
  },
  {
   "cell_type": "code",
   "execution_count": 8,
   "metadata": {
    "scrolled": true
   },
   "outputs": [
    {
     "name": "stdout",
     "output_type": "stream",
     "text": [
      "125 ms ± 17.8 ms per loop (mean ± std. dev. of 7 runs, 10 loops each)\n"
     ]
    }
   ],
   "source": [
    "%timeit l, m, n, z = kernel(xyz1, xyz2, vxyz1, vxyz2)"
   ]
  },
  {
   "cell_type": "code",
   "execution_count": 5,
   "metadata": {},
   "outputs": [],
   "source": [
    "xyz1_gpu = cupy.asarray(xyz1)\n",
    "xyz2_gpu = cupy.asarray(xyz2)\n",
    "vxyz1_gpu = cupy.asarray(vxyz1)\n",
    "vxyz2_gpu = cupy.asarray(vxyz2)"
   ]
  },
  {
   "cell_type": "code",
   "execution_count": 10,
   "metadata": {
    "scrolled": true
   },
   "outputs": [
    {
     "name": "stdout",
     "output_type": "stream",
     "text": [
      "1.82 ms ± 1.15 µs per loop (mean ± std. dev. of 7 runs, 1000 loops each)\n"
     ]
    }
   ],
   "source": [
    "%timeit l, m, n, z = kernel(xyz1_gpu, xyz2_gpu, vxyz1_gpu, vxyz2_gpu)"
   ]
  }
 ],
 "metadata": {
  "kernelspec": {
   "display_name": "Python 3",
   "language": "python",
   "name": "python3"
  },
  "language_info": {
   "codemirror_mode": {
    "name": "ipython",
    "version": 3
   },
   "file_extension": ".py",
   "mimetype": "text/x-python",
   "name": "python",
   "nbconvert_exporter": "python",
   "pygments_lexer": "ipython3",
   "version": "3.6.10"
  }
 },
 "nbformat": 4,
 "nbformat_minor": 4
}
