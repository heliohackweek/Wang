{
 "cells": [
  {
   "cell_type": "code",
   "execution_count": 1,
   "metadata": {},
   "outputs": [],
   "source": [
    "NUMPY_EXPERIMENTAL_ARRAY_FUNCTION = 1  # FIXME is this needed?"
   ]
  },
  {
   "cell_type": "code",
   "execution_count": 2,
   "metadata": {},
   "outputs": [],
   "source": [
    "%load_ext autoreload\n",
    "%autoreload 2"
   ]
  },
  {
   "cell_type": "code",
   "execution_count": 3,
   "metadata": {},
   "outputs": [],
   "source": [
    "import numpy as np\n",
    "import cupy\n",
    "import cupy as cp\n",
    "import matplotlib.pyplot as plt\n",
    "from string import Template\n",
    "from math import sin, cos, atan2, sqrt"
   ]
  },
  {
   "cell_type": "code",
   "execution_count": 4,
   "metadata": {},
   "outputs": [],
   "source": [
    "import numba\n",
    "from numba import jit, njit, prange"
   ]
  },
  {
   "cell_type": "code",
   "execution_count": 5,
   "metadata": {},
   "outputs": [
    {
     "name": "stdout",
     "output_type": "stream",
     "text": [
      "<CUDA Device 0>\n"
     ]
    }
   ],
   "source": [
    "print(cupy.cuda.Device())"
   ]
  },
  {
   "cell_type": "code",
   "execution_count": 6,
   "metadata": {},
   "outputs": [],
   "source": [
    "# \"vectors\" below are 2d numpy arrays of shape (3, number_of_vectors)\n",
    "\n",
    "\n",
    "def mag(v):\n",
    "    return np.linalg.norm(v, axis=0)\n",
    "\n",
    "\n",
    "def unit(v):\n",
    "    return v / np.linalg.norm(v, axis=0)\n",
    "\n",
    "\n",
    "# # the following code seems 10% faster for cpu, but similar for gpu\n",
    "# def pwr(v):\n",
    "#     return v[0, :]**2 + v[1, :]**2 + v[2, :]**2\n",
    "\n",
    "\n",
    "# def mag(v):\n",
    "#     return np.sqrt(pwr(v))\n",
    "\n",
    "\n",
    "# def unit(v):\n",
    "#     return v / mag(v)\n",
    "\n",
    "\n",
    "def inner(v1, v2):\n",
    "    #     return v1[0, :]*v2[0, :] + v1[1, :]*v2[1, :] + v1[2, :]*v2[2, :]\n",
    "    return np.sum(v1 * v2, axis=0)\n",
    "\n",
    "\n",
    "def cross(v1, v2):\n",
    "    return np.cross(v1, v2, axisa=0, axisb=0, axisc=0)\n",
    "\n",
    "\n",
    "# the \"kernel\"\n",
    "def kernel(x1, x2, v1, v2):\n",
    "    dv = v1 - v2\n",
    "    v_avg = 0.5 * (v1 + v2)\n",
    "    dv_perp = cross(v_avg, cross(dv, v_avg))\n",
    "\n",
    "    l_unit = unit(v_avg)\n",
    "    m_unit = unit(dv_perp)\n",
    "    n_unit = cross(l_unit, m_unit)\n",
    "\n",
    "    dx = x1 - x2\n",
    "    l = inner(l_unit, dx)\n",
    "    m = inner(m_unit, dx)\n",
    "    n = inner(n_unit, dx)\n",
    "\n",
    "    result = (mag(dv))**2\n",
    "    \n",
    "    return l, m, n, result\n"
   ]
  },
  {
   "cell_type": "code",
   "execution_count": 7,
   "metadata": {},
   "outputs": [],
   "source": [
    "Nsamples = int(1e6)\n",
    "xyz1 = np.random.random((3, Nsamples))\n",
    "xyz2 = np.random.random((3, Nsamples))\n",
    "vxyz1 = np.random.random((3, Nsamples))\n",
    "vxyz2 = np.random.random((3, Nsamples))"
   ]
  },
  {
   "cell_type": "code",
   "execution_count": 8,
   "metadata": {
    "scrolled": true
   },
   "outputs": [
    {
     "name": "stdout",
     "output_type": "stream",
     "text": [
      "243 ms ± 3 ms per loop (mean ± std. dev. of 7 runs, 1 loop each)\n"
     ]
    }
   ],
   "source": [
    "%timeit l, m, n, z = kernel(xyz1, xyz2, vxyz1, vxyz2)"
   ]
  },
  {
   "cell_type": "code",
   "execution_count": 9,
   "metadata": {},
   "outputs": [],
   "source": [
    "xyz1_gpu = cupy.asarray(xyz1)\n",
    "xyz2_gpu = cupy.asarray(xyz2)\n",
    "vxyz1_gpu = cupy.asarray(vxyz1)\n",
    "vxyz2_gpu = cupy.asarray(vxyz2)"
   ]
  },
  {
   "cell_type": "code",
   "execution_count": 10,
   "metadata": {
    "scrolled": true
   },
   "outputs": [
    {
     "name": "stdout",
     "output_type": "stream",
     "text": [
      "3.39 ms ± 525 ns per loop (mean ± std. dev. of 7 runs, 100 loops each)\n"
     ]
    }
   ],
   "source": [
    "%timeit l, m, n, z = kernel(xyz1_gpu, xyz2_gpu, vxyz1_gpu, vxyz2_gpu)"
   ]
  },
  {
   "cell_type": "code",
   "execution_count": 65,
   "metadata": {},
   "outputs": [
    {
     "data": {
      "text/html": [
       "        <script type=\"text/javascript\">\n",
       "        window.PlotlyConfig = {MathJaxConfig: 'local'};\n",
       "        if (window.MathJax) {MathJax.Hub.Config({SVG: {font: \"STIX-Web\"}});}\n",
       "        if (typeof require !== 'undefined') {\n",
       "        require.undef(\"plotly\");\n",
       "        requirejs.config({\n",
       "            paths: {\n",
       "                'plotly': ['https://cdn.plot.ly/plotly-latest.min']\n",
       "            }\n",
       "        });\n",
       "        require(['plotly'], function(Plotly) {\n",
       "            window._Plotly = Plotly;\n",
       "        });\n",
       "        }\n",
       "        </script>\n",
       "        "
      ]
     },
     "metadata": {},
     "output_type": "display_data"
    }
   ],
   "source": [
    "# an application using cross-product between two vectors, \n",
    "# some vector norm and arithmetic calculations, and a summation\n",
    "def biot_savart_dst(x2,j2,vol2,r_mag=2.5):\n",
    "# calculate magnetic perturbation at coordinate system origin (0,0,0)\n",
    "# x2,j2 = 3,N array of vectors\n",
    "# vol2 (N) array of scalar volumes at position x2 with currents j2\n",
    "    n_x2=len(x2[0,:])\n",
    "    x2_mag=mag(x2)\n",
    "    dst_factor=1.e-7\n",
    "    x2_mag3=x2_mag*x2_mag*x2_mag\n",
    "                           \n",
    "    vol_x2mag3=(np.reshape(np.repeat(vol2/x2_mag,3),(n_x2,3))).T\n",
    "\n",
    "    dst=cross(j2,x2)*vol_x2mag3  # (3,N) contributions to dst, a (3) vector\n",
    "    dst_sum=dst_factor*np.sum(dst,axis=1)   # (3,N) -> (3)\n",
    "\n",
    "    return dst_sum  # single vector value\n",
    "\n",
    "def biot_savart_sum(x1,x2,j2,vol2):\n",
    "# calculate magnetic perturbation at a position (x1) away from the origin \n",
    "# x1,x2,j2 = 3,N array of vectors\n",
    "# vol2 (M) array of scalar volumes at position x2 with currents j2\n",
    "# x1 (3,M) array of positions of observer locations\n",
    "    n_x1=len(x1[0,:])\n",
    "    n_x2=len(x2[0,:])\n",
    "    b1_sum=np.zeros((3,n_x1))  # might optimize of this array were in GPU\n",
    "    for i in range(n_x1): # M iterations\n",
    "        dx=x2-np.reshape(np.repeat(x1[:,i],n_x2),(3,n_x2))\n",
    "        b_=biot_savart_dst(dx,j2,vol2)   # this is the heavy computation step\n",
    "        if hasattr(b_,'get'):     # get() needed to get data from GPU to CPU\n",
    "            b1_sum[:,i]=b_.get()\n",
    "        else:\n",
    "            b1_sum[:,i]=b_\n",
    "        \n",
    "    return b1_sum  # (3,M) values\n"
   ]
  },
  {
   "cell_type": "code",
   "execution_count": 12,
   "metadata": {},
   "outputs": [],
   "source": [
    "Nsamples = int(1e3)\n",
    "Msamples = int(100)\n",
    "x1 = np.random.random((3, Msamples))+1\n",
    "x2 = np.random.random((3, Nsamples))+3\n",
    "j2 = np.random.random((3, Nsamples))\n",
    "vol2 = np.random.random((Nsamples))+0.5\n",
    "x1_gpu = cupy.asarray(x1)\n",
    "x2_gpu = cupy.asarray(x2)\n",
    "j2_gpu = cupy.asarray(j2)\n",
    "vol2_gpu = cupy.asarray(vol2)"
   ]
  },
  {
   "cell_type": "code",
   "execution_count": 13,
   "metadata": {},
   "outputs": [
    {
     "name": "stdout",
     "output_type": "stream",
     "text": [
      "138 µs ± 485 ns per loop (mean ± std. dev. of 7 runs, 10000 loops each)\n"
     ]
    }
   ],
   "source": [
    "%timeit dst = biot_savart_dst(x2, j2, vol2)"
   ]
  },
  {
   "cell_type": "code",
   "execution_count": 16,
   "metadata": {},
   "outputs": [
    {
     "name": "stdout",
     "output_type": "stream",
     "text": [
      "381 µs ± 3.92 µs per loop (mean ± std. dev. of 7 runs, 1000 loops each)\n"
     ]
    }
   ],
   "source": [
    "%timeit dst2 = biot_savart_dst(x2_gpu, j2_gpu, vol2_gpu)"
   ]
  },
  {
   "cell_type": "code",
   "execution_count": 116,
   "metadata": {},
   "outputs": [],
   "source": [
    "Nsamples = int(1e5)\n",
    "Msamples = int(100)\n",
    "x1 = np.random.random((3, Msamples))+1\n",
    "x2 = np.random.random((3, Nsamples))+3\n",
    "j2 = np.random.random((3, Nsamples))\n",
    "vol2 = np.random.random((Nsamples))+0.5\n",
    "x1_gpu = cupy.asarray(x1)\n",
    "x2_gpu = cupy.asarray(x2)\n",
    "j2_gpu = cupy.asarray(j2)\n",
    "vol2_gpu = cupy.asarray(vol2)"
   ]
  },
  {
   "cell_type": "code",
   "execution_count": 117,
   "metadata": {},
   "outputs": [
    {
     "name": "stdout",
     "output_type": "stream",
     "text": [
      "4.52 ms ± 7.13 µs per loop (mean ± std. dev. of 7 runs, 100 loops each)\n"
     ]
    }
   ],
   "source": [
    "%timeit dst = biot_savart_dst(x2, j2, vol2)"
   ]
  },
  {
   "cell_type": "code",
   "execution_count": 135,
   "metadata": {},
   "outputs": [
    {
     "name": "stdout",
     "output_type": "stream",
     "text": [
      "564 ms ± 725 µs per loop (mean ± std. dev. of 7 runs, 1 loop each)\n"
     ]
    }
   ],
   "source": [
    "%timeit b1 = biot_savart_sum(x1,x2, j2, vol2)"
   ]
  },
  {
   "cell_type": "code",
   "execution_count": 136,
   "metadata": {},
   "outputs": [
    {
     "name": "stdout",
     "output_type": "stream",
     "text": [
      "57.9 ms ± 122 µs per loop (mean ± std. dev. of 7 runs, 10 loops each)\n"
     ]
    }
   ],
   "source": [
    "%timeit b1 = biot_savart_sum(x1_gpu,x2_gpu, j2_gpu, vol2_gpu)"
   ]
  },
  {
   "cell_type": "code",
   "execution_count": 68,
   "metadata": {},
   "outputs": [],
   "source": [
    "Nsamples = int(1e6)\n",
    "#Msamples = int(100)\n",
    "#x1 = np.random.random((3, Msamples))+1\n",
    "x2 = np.random.random((3, Nsamples))+3\n",
    "j2 = np.random.random((3, Nsamples))\n",
    "vol2 = np.random.random((Nsamples))+0.5\n",
    "x1_gpu = cupy.asarray(x1)\n",
    "x2_gpu = cupy.asarray(x2)\n",
    "j2_gpu = cupy.asarray(j2)\n",
    "vol2_gpu = cupy.asarray(vol2)"
   ]
  },
  {
   "cell_type": "code",
   "execution_count": 69,
   "metadata": {},
   "outputs": [
    {
     "name": "stdout",
     "output_type": "stream",
     "text": [
      "75.8 ms ± 185 µs per loop (mean ± std. dev. of 7 runs, 10 loops each)\n"
     ]
    }
   ],
   "source": [
    "%timeit dst = biot_savart_dst(x2, j2, vol2)"
   ]
  },
  {
   "cell_type": "code",
   "execution_count": 70,
   "metadata": {},
   "outputs": [
    {
     "name": "stdout",
     "output_type": "stream",
     "text": [
      "2.07 ms ± 101 ns per loop (mean ± std. dev. of 7 runs, 1000 loops each)\n"
     ]
    }
   ],
   "source": [
    "%timeit dst2 = biot_savart_dst(x2_gpu, j2_gpu, vol2_gpu)"
   ]
  },
  {
   "cell_type": "code",
   "execution_count": 66,
   "metadata": {},
   "outputs": [],
   "source": [
    "Nsamples = int(1e8)\n",
    "Msamples = int(100)\n",
    "x1 = np.random.random((3, Msamples))+1\n",
    "x2 = np.random.random((3, Nsamples))+3\n",
    "j2 = np.random.random((3, Nsamples))\n",
    "vol2 = np.random.random((Nsamples))+0.5\n",
    "x1_gpu = cupy.asarray(x1)\n",
    "x2_gpu = cupy.asarray(x2)\n",
    "j2_gpu = cupy.asarray(j2)\n",
    "vol2_gpu = cupy.asarray(vol2)"
   ]
  },
  {
   "cell_type": "code",
   "execution_count": 67,
   "metadata": {},
   "outputs": [
    {
     "name": "stdout",
     "output_type": "stream",
     "text": [
      "10.1 s ± 15.7 ms per loop (mean ± std. dev. of 7 runs, 1 loop each)\n"
     ]
    }
   ],
   "source": [
    "%timeit dst = biot_savart_dst(x2, j2, vol2)"
   ]
  },
  {
   "cell_type": "code",
   "execution_count": 68,
   "metadata": {},
   "outputs": [
    {
     "name": "stdout",
     "output_type": "stream",
     "text": [
      "202 ms ± 84.8 µs per loop (mean ± std. dev. of 7 runs, 100 loops each)\n"
     ]
    }
   ],
   "source": [
    "%timeit dst2 = biot_savart_dst(x2_gpu, j2_gpu, vol2_gpu)"
   ]
  },
  {
   "cell_type": "code",
   "execution_count": 43,
   "metadata": {},
   "outputs": [
    {
     "name": "stdout",
     "output_type": "stream",
     "text": [
      "5600010752\n",
      "16000010752\n",
      "2\n"
     ]
    }
   ],
   "source": [
    "# total memory used\n",
    "mempool = cupy.get_default_memory_pool()\n",
    "pinned_mempool = cupy.get_default_pinned_memory_pool()\n",
    "print(mempool.used_bytes())              # 5600010752\n",
    "print(mempool.total_bytes())             # 16000010752\n",
    "print(pinned_mempool.n_free_blocks())    # 4"
   ]
  },
  {
   "cell_type": "code",
   "execution_count": 44,
   "metadata": {},
   "outputs": [
    {
     "name": "stdout",
     "output_type": "stream",
     "text": [
      "5600010752\n",
      "5600010752\n",
      "0\n"
     ]
    }
   ],
   "source": [
    "# free memory used by calculations (the gpu input arrays are still there)\n",
    "mempool.free_all_blocks()\n",
    "pinned_mempool.free_all_blocks()\n",
    "print(mempool.used_bytes())              # 5600010752 after only running 1e8\n",
    "print(mempool.total_bytes())             # 5600010752\n",
    "print(pinned_mempool.n_free_blocks())    # 0"
   ]
  },
  {
   "cell_type": "code",
   "execution_count": 45,
   "metadata": {},
   "outputs": [
    {
     "name": "stdout",
     "output_type": "stream",
     "text": [
      "8192\n",
      "8192\n",
      "0\n"
     ]
    }
   ],
   "source": [
    "x1_gpu = None\n",
    "x2_gpu = None\n",
    "j2_gpu = None\n",
    "vol2_gpu = None\n",
    "mempool.free_all_blocks()\n",
    "pinned_mempool.free_all_blocks()\n",
    "print(mempool.used_bytes())              # 8192 - 8 kBytes?\n",
    "print(mempool.total_bytes())             # 8192\n",
    "print(pinned_mempool.n_free_blocks())    # 0"
   ]
  },
  {
   "cell_type": "code",
   "execution_count": 17,
   "metadata": {},
   "outputs": [
    {
     "name": "stdout",
     "output_type": "stream",
     "text": [
      "/home/u00u55abwyjsQnkErP357/SWMF_MAG_DATA/Michael_Madelaire_082120_1/3d__var_1_e19980423-180000-000.out\n"
     ]
    }
   ],
   "source": [
    "import os\n",
    "HOME=os.environ['HOME']\n",
    "filename=HOME+'/SWMF_MAG_DATA/Michael_Madelaire_082120_1/3d__var_1_e19980423-180000-000.out'\n",
    "print(filename)"
   ]
  },
  {
   "cell_type": "code",
   "execution_count": 18,
   "metadata": {},
   "outputs": [
    {
     "name": "stderr",
     "output_type": "stream",
     "text": [
      "/home/u00u55abwyjsQnkErP357/.local/lib/python3.6/site-packages/sympy/physics/units/quantities.py:81: SymPyDeprecationWarning: \n",
      "\n",
      "Moving method to UnitSystem class has been deprecated since SymPy 1.5.\n",
      "Use unit_system.set_quantity_dimension or\n",
      "nanotesla.set_global_relative_scale_factor instead. See\n",
      "https://github.com/sympy/sympy/issues/17765 for more info.\n",
      "\n",
      "  useinstead=\"unit_system.set_quantity_dimension or {}.set_global_relative_scale_factor\".format(self),\n",
      "/home/u00u55abwyjsQnkErP357/.local/lib/python3.6/site-packages/sympy/physics/units/quantities.py:92: SymPyDeprecationWarning: \n",
      "\n",
      "Moving method to UnitSystem class has been deprecated since SymPy 1.5.\n",
      "Use unit_system.set_quantity_scale_factor or\n",
      "nanotesla.set_global_relative_scale_factor instead. See\n",
      "https://github.com/sympy/sympy/issues/17765 for more info.\n",
      "\n",
      "  useinstead=\"unit_system.set_quantity_scale_factor or {}.set_global_relative_scale_factor\".format(self),\n",
      "/home/u00u55abwyjsQnkErP357/.local/lib/python3.6/site-packages/sympy/physics/units/quantities.py:81: SymPyDeprecationWarning: \n",
      "\n",
      "Moving method to UnitSystem class has been deprecated since SymPy 1.5.\n",
      "Use unit_system.set_quantity_dimension or earth\n",
      "radii.set_global_relative_scale_factor instead. See\n",
      "https://github.com/sympy/sympy/issues/17765 for more info.\n",
      "\n",
      "  useinstead=\"unit_system.set_quantity_dimension or {}.set_global_relative_scale_factor\".format(self),\n",
      "/home/u00u55abwyjsQnkErP357/.local/lib/python3.6/site-packages/sympy/physics/units/quantities.py:92: SymPyDeprecationWarning: \n",
      "\n",
      "Moving method to UnitSystem class has been deprecated since SymPy 1.5.\n",
      "Use unit_system.set_quantity_scale_factor or earth\n",
      "radii.set_global_relative_scale_factor instead. See\n",
      "https://github.com/sympy/sympy/issues/17765 for more info.\n",
      "\n",
      "  useinstead=\"unit_system.set_quantity_scale_factor or {}.set_global_relative_scale_factor\".format(self),\n",
      "/home/u00u55abwyjsQnkErP357/.local/lib/python3.6/site-packages/sympy/physics/units/quantities.py:81: SymPyDeprecationWarning: \n",
      "\n",
      "Moving method to UnitSystem class has been deprecated since SymPy 1.5.\n",
      "Use unit_system.set_quantity_dimension or\n",
      "erg.set_global_relative_scale_factor instead. See\n",
      "https://github.com/sympy/sympy/issues/17765 for more info.\n",
      "\n",
      "  useinstead=\"unit_system.set_quantity_dimension or {}.set_global_relative_scale_factor\".format(self),\n",
      "/home/u00u55abwyjsQnkErP357/.local/lib/python3.6/site-packages/sympy/physics/units/quantities.py:92: SymPyDeprecationWarning: \n",
      "\n",
      "Moving method to UnitSystem class has been deprecated since SymPy 1.5.\n",
      "Use unit_system.set_quantity_scale_factor or\n",
      "erg.set_global_relative_scale_factor instead. See\n",
      "https://github.com/sympy/sympy/issues/17765 for more info.\n",
      "\n",
      "  useinstead=\"unit_system.set_quantity_scale_factor or {}.set_global_relative_scale_factor\".format(self),\n",
      "/home/u00u55abwyjsQnkErP357/.local/lib/python3.6/site-packages/sympy/physics/units/quantities.py:81: SymPyDeprecationWarning: \n",
      "\n",
      "Moving method to UnitSystem class has been deprecated since SymPy 1.5.\n",
      "Use unit_system.set_quantity_dimension or\n",
      "nanopascals.set_global_relative_scale_factor instead. See\n",
      "https://github.com/sympy/sympy/issues/17765 for more info.\n",
      "\n",
      "  useinstead=\"unit_system.set_quantity_dimension or {}.set_global_relative_scale_factor\".format(self),\n",
      "/home/u00u55abwyjsQnkErP357/.local/lib/python3.6/site-packages/sympy/physics/units/quantities.py:92: SymPyDeprecationWarning: \n",
      "\n",
      "Moving method to UnitSystem class has been deprecated since SymPy 1.5.\n",
      "Use unit_system.set_quantity_scale_factor or\n",
      "nanopascals.set_global_relative_scale_factor instead. See\n",
      "https://github.com/sympy/sympy/issues/17765 for more info.\n",
      "\n",
      "  useinstead=\"unit_system.set_quantity_scale_factor or {}.set_global_relative_scale_factor\".format(self),\n",
      "/home/u00u55abwyjsQnkErP357/.local/lib/python3.6/site-packages/sympy/physics/units/quantities.py:81: SymPyDeprecationWarning:\n",
      "\n",
      "\n",
      "\n",
      "Moving method to UnitSystem class has been deprecated since SymPy 1.5.\n",
      "Use unit_system.set_quantity_dimension or\n",
      "nanotesla.set_global_relative_scale_factor instead. See\n",
      "https://github.com/sympy/sympy/issues/17765 for more info.\n",
      "\n",
      "\n",
      "/home/u00u55abwyjsQnkErP357/.local/lib/python3.6/site-packages/sympy/physics/units/quantities.py:92: SymPyDeprecationWarning:\n",
      "\n",
      "\n",
      "\n",
      "Moving method to UnitSystem class has been deprecated since SymPy 1.5.\n",
      "Use unit_system.set_quantity_scale_factor or\n",
      "nanotesla.set_global_relative_scale_factor instead. See\n",
      "https://github.com/sympy/sympy/issues/17765 for more info.\n",
      "\n",
      "\n",
      "/home/u00u55abwyjsQnkErP357/.local/lib/python3.6/site-packages/sympy/physics/units/quantities.py:81: SymPyDeprecationWarning:\n",
      "\n",
      "\n",
      "\n",
      "Moving method to UnitSystem class has been deprecated since SymPy 1.5.\n",
      "Use unit_system.set_quantity_dimension or earth\n",
      "radii.set_global_relative_scale_factor instead. See\n",
      "https://github.com/sympy/sympy/issues/17765 for more info.\n",
      "\n",
      "\n",
      "/home/u00u55abwyjsQnkErP357/.local/lib/python3.6/site-packages/sympy/physics/units/quantities.py:92: SymPyDeprecationWarning:\n",
      "\n",
      "\n",
      "\n",
      "Moving method to UnitSystem class has been deprecated since SymPy 1.5.\n",
      "Use unit_system.set_quantity_scale_factor or earth\n",
      "radii.set_global_relative_scale_factor instead. See\n",
      "https://github.com/sympy/sympy/issues/17765 for more info.\n",
      "\n",
      "\n",
      "/home/u00u55abwyjsQnkErP357/.local/lib/python3.6/site-packages/sympy/physics/units/quantities.py:81: SymPyDeprecationWarning:\n",
      "\n",
      "\n",
      "\n",
      "Moving method to UnitSystem class has been deprecated since SymPy 1.5.\n",
      "Use unit_system.set_quantity_dimension or\n",
      "erg.set_global_relative_scale_factor instead. See\n",
      "https://github.com/sympy/sympy/issues/17765 for more info.\n",
      "\n",
      "\n",
      "/home/u00u55abwyjsQnkErP357/.local/lib/python3.6/site-packages/sympy/physics/units/quantities.py:92: SymPyDeprecationWarning:\n",
      "\n",
      "\n",
      "\n",
      "Moving method to UnitSystem class has been deprecated since SymPy 1.5.\n",
      "Use unit_system.set_quantity_scale_factor or\n",
      "erg.set_global_relative_scale_factor instead. See\n",
      "https://github.com/sympy/sympy/issues/17765 for more info.\n",
      "\n",
      "\n",
      "/home/u00u55abwyjsQnkErP357/.local/lib/python3.6/site-packages/sympy/physics/units/quantities.py:81: SymPyDeprecationWarning:\n",
      "\n",
      "\n",
      "\n",
      "Moving method to UnitSystem class has been deprecated since SymPy 1.5.\n",
      "Use unit_system.set_quantity_dimension or\n",
      "nanopascals.set_global_relative_scale_factor instead. See\n",
      "https://github.com/sympy/sympy/issues/17765 for more info.\n",
      "\n",
      "\n",
      "/home/u00u55abwyjsQnkErP357/.local/lib/python3.6/site-packages/sympy/physics/units/quantities.py:92: SymPyDeprecationWarning:\n",
      "\n",
      "\n",
      "\n",
      "Moving method to UnitSystem class has been deprecated since SymPy 1.5.\n",
      "Use unit_system.set_quantity_scale_factor or\n",
      "nanopascals.set_global_relative_scale_factor instead. See\n",
      "https://github.com/sympy/sympy/issues/17765 for more info.\n",
      "\n",
      "\n"
     ]
    }
   ],
   "source": [
    "import numpy as np\n",
    "import pandas as pd\n",
    "import os\n",
    "import scipy\n",
    "import scipy.constants as constants\n",
    "from scipy import interpolate\n",
    "from scipy.interpolate import RegularGridInterpolator\n",
    "import math\n",
    "import time\n",
    "import kamodo\n",
    "\n",
    "import plotly.express as px\n",
    "import plotly.graph_objects as go\n",
    "from plotly.offline import init_notebook_mode, iplot, plot\n",
    "from plotly.subplots import make_subplots"
   ]
  },
  {
   "cell_type": "code",
   "execution_count": 28,
   "metadata": {},
   "outputs": [
    {
     "data": {
      "text/html": [
       "        <script type=\"text/javascript\">\n",
       "        window.PlotlyConfig = {MathJaxConfig: 'local'};\n",
       "        if (window.MathJax) {MathJax.Hub.Config({SVG: {font: \"STIX-Web\"}});}\n",
       "        if (typeof require !== 'undefined') {\n",
       "        require.undef(\"plotly\");\n",
       "        requirejs.config({\n",
       "            paths: {\n",
       "                'plotly': ['https://cdn.plot.ly/plotly-latest.min']\n",
       "            }\n",
       "        });\n",
       "        require(['plotly'], function(Plotly) {\n",
       "            window._Plotly = Plotly;\n",
       "        });\n",
       "        }\n",
       "        </script>\n",
       "        "
      ]
     },
     "metadata": {},
     "output_type": "display_data"
    }
   ],
   "source": [
    "from swmf_gm import SWMF_GM"
   ]
  },
  {
   "cell_type": "code",
   "execution_count": 29,
   "metadata": {},
   "outputs": [
    {
     "name": "stdout",
     "output_type": "stream",
     "text": [
      "opening /home/u00u55abwyjsQnkErP357/SWMF_MAG_DATA/Michael_Madelaire_082120_1/3d__var_1_e19980423-180000-000.out\n",
      "... found 19 variables\n",
      "... setting filetime =  1000/01/01 00:00:00 UT\n",
      "... file grid has 1007616 cells with minimum dx = 0.125\n",
      "Time loading file and precomputing default interpolations: 15.4038 seconds\n"
     ]
    }
   ],
   "source": [
    "HOME=os.environ['HOME']\n",
    "runpath=HOME+'/SWMF_MAG_DATA/'\n",
    "runname='Michael_Madelaire_082120_1'\n",
    "file=runpath+runname+'/3d__var_1_e19980423-180000-000.out'\n",
    "\n",
    "swmf = SWMF_GM(file, runpath=runpath, runname=runname)"
   ]
  },
  {
   "cell_type": "code",
   "execution_count": 30,
   "metadata": {},
   "outputs": [
    {
     "data": {
      "text/plain": [
       "{'x': {'units': 'R',\n",
       "  'data': array([-220., -212., -220., ...,   30.,   26.,   30.], dtype=float32),\n",
       "  'interpolator': array([-50. , -49.5, -49. , ...,  19. ,  19.5,  20. ])},\n",
       " 'y': {'units': 'R',\n",
       "  'data': array([-124., -124., -116., ...,  122.,  126.,  126.], dtype=float32),\n",
       "  'interpolator': array([-20., -20., -20., ...,  20.,  20.,  20.])},\n",
       " 'z': {'units': 'R',\n",
       "  'data': array([-124., -124., -124., ...,  126.,  126.,  126.], dtype=float32),\n",
       "  'interpolator': array([0., 0., 0., ..., 0., 0., 0.])},\n",
       " 'rho': {'units': 'Mp/cc',\n",
       "  'data': array([11.199, 11.199, 11.199, ..., 11.199, 11.199, 11.199], dtype=float32),\n",
       "  'interpolator': array([ 2.18929994,  2.20574248,  2.22218502, ..., 11.19900036,\n",
       "         11.19900036, 11.19900036])},\n",
       " 'ux': {'units': 'km/s',\n",
       "  'data': array([-322.443, -322.443, -322.443, ..., -322.443, -322.443, -322.443],\n",
       "        dtype=float32),\n",
       "  'interpolator': array([-160.99200439, -160.083004  , -159.1740036 , ..., -322.44299316,\n",
       "         -322.44299316, -322.44299316])},\n",
       " 'uy': {'units': 'km/s',\n",
       "  'data': array([ 4.41374e-08, -3.68633e-07, -5.30477e-08, ..., -3.52695e-08,\n",
       "          9.69898e-08,  4.60184e-08], dtype=float32),\n",
       "  'interpolator': array([-7.21259499e+00, -7.24829996e+00, -7.28400493e+00, ...,\n",
       "         -4.92061983e-04, -4.40309494e-04, -3.97289987e-04])},\n",
       " 'uz': {'units': 'km/s',\n",
       "  'data': array([-1.58069e-08, -9.21603e-09, -1.22671e-07, ...,  1.64470e-10,\n",
       "          7.96490e-10,  3.43706e-10], dtype=float32),\n",
       "  'interpolator': array([-4.62741861e-01, -5.25781343e-01, -5.88820824e-01, ...,\n",
       "         -1.81573258e-04, -1.50979748e-04, -1.28417250e-04])},\n",
       " 'e': {'units': 'J/m3',\n",
       "  'data': array([9.89677e-10, 9.89677e-10, 9.89677e-10, ..., 9.89677e-10,\n",
       "         9.89677e-10, 9.89677e-10], dtype=float32),\n",
       "  'interpolator': array([1.27304500e-10, 1.27887000e-10, 1.28469499e-10, ...,\n",
       "         9.89679005e-10, 9.89678506e-10, 9.89678506e-10])},\n",
       " 'bx': {'units': 'nT',\n",
       "  'data': array([-6.82563e-05, -1.83239e-05, -9.02488e-05, ...,  5.70778e-07,\n",
       "          1.06707e-06,  4.78625e-07], dtype=float32),\n",
       "  'interpolator': array([ 2.38233707e+00,  2.40078482e+00,  2.41923258e+00, ...,\n",
       "         -1.81028300e-04, -2.60653805e-04, -3.23736794e-04])},\n",
       " 'by': {'units': 'nT',\n",
       "  'data': array([-5.40128e-05,  1.26346e-05, -5.66292e-05, ...,  9.40685e-07,\n",
       "         -1.31757e-06,  5.66445e-07], dtype=float32),\n",
       "  'interpolator': array([2.00058505e-01, 1.98715508e-01, 1.97372511e-01, ...,\n",
       "         2.31585504e-05, 7.25739519e-05, 1.06641703e-04])},\n",
       " 'bz': {'units': 'nT',\n",
       "  'data': array([-0.162016, -0.161995, -0.162019, ..., -0.162005, -0.162006,\n",
       "         -0.162005], dtype=float32),\n",
       "  'interpolator': array([ 0.76562151,  0.77800676,  0.79039201, ..., -0.163296  ,\n",
       "         -0.1632355 , -0.1631765 ])},\n",
       " 'b1x': {'units': 'nT',\n",
       "  'data': array([ 1.65712e-03,  1.80769e-03,  1.75771e-03, ..., -9.74740e-05,\n",
       "         -4.01344e-04, -1.49584e-04], dtype=float32),\n",
       "  'interpolator': array([2.4986065 , 2.5200725 , 2.54153851, ..., 0.230021  , 0.241629  ,\n",
       "         0.2501035 ])},\n",
       " 'b1y': {'units': 'nT',\n",
       "  'data': array([0.00120994, 0.00140409, 0.00120064, ..., 0.0079152 , 0.00760509,\n",
       "         0.00756757], dtype=float32),\n",
       "  'interpolator': array([0.27595101, 0.27729176, 0.27863251, ..., 0.820333  , 0.79018453,\n",
       "         0.76112401])},\n",
       " 'b1z': {'units': 'nT',\n",
       "  'data': array([-0.162004, -0.161941, -0.161973, ..., -0.158778, -0.159171,\n",
       "         -0.159161], dtype=float32),\n",
       "  'interpolator': array([ 0.58738449,  0.59513749,  0.60289049, ..., -1.48803997,\n",
       "         -1.44220001, -1.39949501])},\n",
       " 'p': {'units': 'nPa',\n",
       "  'data': array([0.0106111, 0.0106111, 0.0106111, ..., 0.0106111, 0.0106111,\n",
       "         0.0106111], dtype=float32),\n",
       "  'interpolator': array([0.05005775, 0.05054278, 0.0510278 , ..., 0.01061115, 0.0106111 ,\n",
       "         0.01061105])},\n",
       " 'jx': {'units': 'uA/m2',\n",
       "  'data': array([ 3.03813e-11,  2.48604e-11,  2.59923e-10, ..., -6.25673e-09,\n",
       "         -1.84621e-10, -1.92830e-10], dtype=float32),\n",
       "  'interpolator': array([-8.01131973e-05, -8.11508980e-05, -8.21885988e-05, ...,\n",
       "          6.05468990e-08,  5.45202496e-08,  4.96473493e-08])},\n",
       " 'jy': {'units': 'uA/m2',\n",
       "  'data': array([-3.22718e-10, -5.64758e-10, -4.24228e-10, ..., -8.06227e-11,\n",
       "         -2.39375e-10, -1.29746e-10], dtype=float32),\n",
       "  'interpolator': array([ 2.03649499e-04,  2.05535751e-04,  2.07422003e-04, ...,\n",
       "         -1.60463500e-07, -1.59901504e-07, -1.51840503e-07])},\n",
       " 'jz': {'units': 'uA/m2',\n",
       "  'data': array([ 7.29652e-10,  1.55551e-09, -7.16666e-11, ...,  4.09815e-11,\n",
       "         -4.66125e-10, -6.80848e-10], dtype=float32),\n",
       "  'interpolator': array([4.33237701e-05, 4.42619703e-05, 4.52001705e-05, ...,\n",
       "         2.44005003e-08, 1.15456003e-08, 7.53022511e-09])},\n",
       " 'status': {'units': '--',\n",
       "  'data': array([0., 0., 0., ..., 0., 0., 0.], dtype=float32),\n",
       "  'interpolator': array([3., 3., 3., ..., 0., 0., 0.])},\n",
       " 'volume': {'units': 'R**3',\n",
       "  'data': array([1536., 1536., 1536., ...,    0.,    0.,    0.], dtype=float32),\n",
       "  'interpolator': array([6656.   , 4008.625, 1361.25 , ..., 2688.   , 3544.   , 2668.   ])}}"
      ]
     },
     "execution_count": 30,
     "metadata": {},
     "output_type": "execute_result"
    }
   ],
   "source": [
    "swmf.variables"
   ]
  },
  {
   "cell_type": "code",
   "execution_count": 31,
   "metadata": {},
   "outputs": [
    {
     "name": "stderr",
     "output_type": "stream",
     "text": [
      "/home/u00u55abwyjsQnkErP357/.local/lib/python3.6/site-packages/sympy/core/relational.py:490: SymPyDeprecationWarning:\n",
      "\n",
      "\n",
      "\n",
      "Eq(expr) with rhs default to 0 has been deprecated since SymPy 1.5.\n",
      "Use Eq(expr, 0) instead. See\n",
      "https://github.com/sympy/sympy/issues/16587 for more info.\n",
      "\n",
      "\n"
     ]
    },
    {
     "data": {
      "text/latex": [
       "\\begin{equation}x{\\left(\\vec{x} \\right)} [R] = 0\\end{equation}\\begin{equation}y{\\left(\\vec{x} \\right)} [R] = 0\\end{equation}\\begin{equation}z{\\left(\\vec{x} \\right)} [R] = 0\\end{equation}\\begin{equation}\\rho{\\left(\\vec{x} \\right)} [Mp/cc] = 0\\end{equation}\\begin{equation}\\operatorname{ux}{\\left(\\vec{x} \\right)} [km/s] = 0\\end{equation}\\begin{equation}\\operatorname{uy}{\\left(\\vec{x} \\right)} [km/s] = 0\\end{equation}\\begin{equation}\\operatorname{uz}{\\left(\\vec{x} \\right)} [km/s] = 0\\end{equation}\\begin{equation}e{\\left(\\vec{x} \\right)} [J/m3] = 0\\end{equation}\\begin{equation}\\operatorname{bx}{\\left(\\vec{x} \\right)} [nT] = 0\\end{equation}\\begin{equation}\\operatorname{by}{\\left(\\vec{x} \\right)} [nT] = 0\\end{equation}\\begin{equation}\\operatorname{bz}{\\left(\\vec{x} \\right)} [nT] = 0\\end{equation}\\begin{equation}\\operatorname{b1x}{\\left(\\vec{x} \\right)} [nT] = 0\\end{equation}\\begin{equation}\\operatorname{b1y}{\\left(\\vec{x} \\right)} [nT] = 0\\end{equation}\\begin{equation}\\operatorname{b1z}{\\left(\\vec{x} \\right)} [nT] = 0\\end{equation}\\begin{equation}p{\\left(\\vec{x} \\right)} [nPa] = 0\\end{equation}\\begin{equation}\\operatorname{jx}{\\left(\\vec{x} \\right)} [uA/m2] = 0\\end{equation}\\begin{equation}\\operatorname{jy}{\\left(\\vec{x} \\right)} [uA/m2] = 0\\end{equation}\\begin{equation}\\operatorname{jz}{\\left(\\vec{x} \\right)} [uA/m2] = 0\\end{equation}\\begin{equation}\\operatorname{status}{\\left(\\vec{x} \\right)} [--] = 0\\end{equation}\\begin{equation}\\operatorname{volume}{\\left(\\vec{x} \\right)} [R**3] = 0\\end{equation}"
      ],
      "text/plain": [
       "SWMF_GM([(x(xvec),\n",
       "          <function swmf_gm.SWMF_GM.register_variable.<locals>.interpolate(xvec)>),\n",
       "         (x,\n",
       "          <function swmf_gm.SWMF_GM.register_variable.<locals>.interpolate(xvec)>),\n",
       "         (y(xvec),\n",
       "          <function swmf_gm.SWMF_GM.register_variable.<locals>.interpolate(xvec)>),\n",
       "         (y,\n",
       "          <function swmf_gm.SWMF_GM.register_variable.<locals>.interpolate(xvec)>),\n",
       "         (z(xvec),\n",
       "          <function swmf_gm.SWMF_GM.register_variable.<locals>.interpolate(xvec)>),\n",
       "         (z,\n",
       "          <function swmf_gm.SWMF_GM.register_variable.<locals>.interpolate(xvec)>),\n",
       "         (rho(xvec),\n",
       "          <function swmf_gm.SWMF_GM.register_variable.<locals>.interpolate(xvec)>),\n",
       "         (rho,\n",
       "          <function swmf_gm.SWMF_GM.register_variable.<locals>.interpolate(xvec)>),\n",
       "         (ux(xvec),\n",
       "          <function swmf_gm.SWMF_GM.register_variable.<locals>.interpolate(xvec)>),\n",
       "         (ux,\n",
       "          <function swmf_gm.SWMF_GM.register_variable.<locals>.interpolate(xvec)>),\n",
       "         (uy(xvec),\n",
       "          <function swmf_gm.SWMF_GM.register_variable.<locals>.interpolate(xvec)>),\n",
       "         (uy,\n",
       "          <function swmf_gm.SWMF_GM.register_variable.<locals>.interpolate(xvec)>),\n",
       "         (uz(xvec),\n",
       "          <function swmf_gm.SWMF_GM.register_variable.<locals>.interpolate(xvec)>),\n",
       "         (uz,\n",
       "          <function swmf_gm.SWMF_GM.register_variable.<locals>.interpolate(xvec)>),\n",
       "         (e(xvec),\n",
       "          <function swmf_gm.SWMF_GM.register_variable.<locals>.interpolate(xvec)>),\n",
       "         (e,\n",
       "          <function swmf_gm.SWMF_GM.register_variable.<locals>.interpolate(xvec)>),\n",
       "         (bx(xvec),\n",
       "          <function swmf_gm.SWMF_GM.register_variable.<locals>.interpolate(xvec)>),\n",
       "         (bx,\n",
       "          <function swmf_gm.SWMF_GM.register_variable.<locals>.interpolate(xvec)>),\n",
       "         (by(xvec),\n",
       "          <function swmf_gm.SWMF_GM.register_variable.<locals>.interpolate(xvec)>),\n",
       "         (by,\n",
       "          <function swmf_gm.SWMF_GM.register_variable.<locals>.interpolate(xvec)>),\n",
       "         (bz(xvec),\n",
       "          <function swmf_gm.SWMF_GM.register_variable.<locals>.interpolate(xvec)>),\n",
       "         (bz,\n",
       "          <function swmf_gm.SWMF_GM.register_variable.<locals>.interpolate(xvec)>),\n",
       "         (b1x(xvec),\n",
       "          <function swmf_gm.SWMF_GM.register_variable.<locals>.interpolate(xvec)>),\n",
       "         (b1x,\n",
       "          <function swmf_gm.SWMF_GM.register_variable.<locals>.interpolate(xvec)>),\n",
       "         (b1y(xvec),\n",
       "          <function swmf_gm.SWMF_GM.register_variable.<locals>.interpolate(xvec)>),\n",
       "         (b1y,\n",
       "          <function swmf_gm.SWMF_GM.register_variable.<locals>.interpolate(xvec)>),\n",
       "         (b1z(xvec),\n",
       "          <function swmf_gm.SWMF_GM.register_variable.<locals>.interpolate(xvec)>),\n",
       "         (b1z,\n",
       "          <function swmf_gm.SWMF_GM.register_variable.<locals>.interpolate(xvec)>),\n",
       "         (p(xvec),\n",
       "          <function swmf_gm.SWMF_GM.register_variable.<locals>.interpolate(xvec)>),\n",
       "         (p,\n",
       "          <function swmf_gm.SWMF_GM.register_variable.<locals>.interpolate(xvec)>),\n",
       "         (jx(xvec),\n",
       "          <function swmf_gm.SWMF_GM.register_variable.<locals>.interpolate(xvec)>),\n",
       "         (jx,\n",
       "          <function swmf_gm.SWMF_GM.register_variable.<locals>.interpolate(xvec)>),\n",
       "         (jy(xvec),\n",
       "          <function swmf_gm.SWMF_GM.register_variable.<locals>.interpolate(xvec)>),\n",
       "         (jy,\n",
       "          <function swmf_gm.SWMF_GM.register_variable.<locals>.interpolate(xvec)>),\n",
       "         (jz(xvec),\n",
       "          <function swmf_gm.SWMF_GM.register_variable.<locals>.interpolate(xvec)>),\n",
       "         (jz,\n",
       "          <function swmf_gm.SWMF_GM.register_variable.<locals>.interpolate(xvec)>),\n",
       "         (status(xvec),\n",
       "          <function swmf_gm.SWMF_GM.register_variable.<locals>.interpolate(xvec)>),\n",
       "         (status,\n",
       "          <function swmf_gm.SWMF_GM.register_variable.<locals>.interpolate(xvec)>),\n",
       "         (volume(xvec),\n",
       "          <function swmf_gm.SWMF_GM.register_variable.<locals>.interpolate(xvec)>),\n",
       "         (volume,\n",
       "          <function swmf_gm.SWMF_GM.register_variable.<locals>.interpolate(xvec)>)])"
      ]
     },
     "execution_count": 31,
     "metadata": {},
     "output_type": "execute_result"
    }
   ],
   "source": [
    "swmf"
   ]
  },
  {
   "cell_type": "code",
   "execution_count": 36,
   "metadata": {},
   "outputs": [],
   "source": [
    "jvec=np.vstack([swmf.variables['jx']['data'],swmf.variables['jy']['data'],swmf.variables['jz']['data']])"
   ]
  },
  {
   "cell_type": "code",
   "execution_count": 37,
   "metadata": {},
   "outputs": [
    {
     "data": {
      "text/plain": [
       "(3, 1007616)"
      ]
     },
     "execution_count": 37,
     "metadata": {},
     "output_type": "execute_result"
    }
   ],
   "source": [
    "jvec.shape"
   ]
  },
  {
   "cell_type": "code",
   "execution_count": 38,
   "metadata": {},
   "outputs": [],
   "source": [
    "xvec=np.vstack([swmf.variables['x']['data'],swmf.variables['y']['data'],swmf.variables['z']['data']])\n"
   ]
  },
  {
   "cell_type": "code",
   "execution_count": 39,
   "metadata": {},
   "outputs": [
    {
     "data": {
      "text/plain": [
       "(3, 1007616)"
      ]
     },
     "execution_count": 39,
     "metadata": {},
     "output_type": "execute_result"
    }
   ],
   "source": [
    "xvec.shape"
   ]
  },
  {
   "cell_type": "code",
   "execution_count": 40,
   "metadata": {},
   "outputs": [],
   "source": [
    "nx1=101\n",
    "lats=np.array(np.arange(nx1)*math.pi/(nx1-1.),dtype='float32')\n",
    "x1vec=np.vstack([np.cos(lats),np.zeros(nx1),np.sin(lats)])"
   ]
  },
  {
   "cell_type": "code",
   "execution_count": 41,
   "metadata": {},
   "outputs": [
    {
     "data": {
      "text/plain": [
       "(3, 101)"
      ]
     },
     "execution_count": 41,
     "metadata": {},
     "output_type": "execute_result"
    }
   ],
   "source": [
    "x1vec.shape"
   ]
  },
  {
   "cell_type": "code",
   "execution_count": 42,
   "metadata": {},
   "outputs": [
    {
     "name": "stdout",
     "output_type": "stream",
     "text": [
      "41.4 ms ± 381 µs per loop (mean ± std. dev. of 7 runs, 10 loops each)\n"
     ]
    }
   ],
   "source": [
    "timeit dst=biot_savart_dst(xvec,jvec,vol)"
   ]
  },
  {
   "cell_type": "code",
   "execution_count": 46,
   "metadata": {},
   "outputs": [],
   "source": [
    "xvec_gpu=cp.array(xvec)\n",
    "jvec_gpu=cp.array(jvec)\n",
    "x1vec_gpu=cp.array(x1vec)\n",
    "vol_gpu=cp.array(vol)"
   ]
  },
  {
   "cell_type": "code",
   "execution_count": 47,
   "metadata": {},
   "outputs": [
    {
     "name": "stdout",
     "output_type": "stream",
     "text": [
      "397 µs ± 27.7 µs per loop (mean ± std. dev. of 7 runs, 1 loop each)\n"
     ]
    }
   ],
   "source": [
    "timeit dst=biot_savart_dst(xvec_gpu,jvec_gpu,vol_gpu)"
   ]
  },
  {
   "cell_type": "code",
   "execution_count": 63,
   "metadata": {},
   "outputs": [],
   "source": [
    "dst_gpu=biot_savart_dst(xvec_gpu,jvec_gpu,vol_gpu)"
   ]
  },
  {
   "cell_type": "code",
   "execution_count": 64,
   "metadata": {},
   "outputs": [
    {
     "data": {
      "text/plain": [
       "array([-0.00765572,  0.00644158, -0.0015901 ], dtype=float32)"
      ]
     },
     "execution_count": 64,
     "metadata": {},
     "output_type": "execute_result"
    }
   ],
   "source": [
    "dst_gpu.get()"
   ]
  },
  {
   "cell_type": "code",
   "execution_count": 55,
   "metadata": {},
   "outputs": [
    {
     "name": "stdout",
     "output_type": "stream",
     "text": [
      "8.78 s ± 10.4 ms per loop (mean ± std. dev. of 7 runs, 1 loop each)\n"
     ]
    }
   ],
   "source": [
    "timeit deltab=biot_savart_sum(x1vec,xvec,jvec,vol)"
   ]
  },
  {
   "cell_type": "code",
   "execution_count": 54,
   "metadata": {},
   "outputs": [
    {
     "name": "stdout",
     "output_type": "stream",
     "text": [
      "226 ms ± 872 µs per loop (mean ± std. dev. of 7 runs, 1 loop each)\n"
     ]
    }
   ],
   "source": [
    "timeit deltab=biot_savart_sum(x1vec_gpu,xvec_gpu,jvec_gpu,vol_gpu)"
   ]
  },
  {
   "cell_type": "code",
   "execution_count": 61,
   "metadata": {},
   "outputs": [],
   "source": [
    "deltab_gpu=biot_savart_sum(x1vec_gpu,xvec_gpu,jvec_gpu,vol_gpu)"
   ]
  },
  {
   "cell_type": "code",
   "execution_count": 62,
   "metadata": {},
   "outputs": [
    {
     "data": {
      "text/plain": [
       "array([[-0.00796291,  0.00642199, -0.00138094],\n",
       "       [-0.00798377,  0.0064346 , -0.00136993],\n",
       "       [-0.00800419,  0.00644709, -0.00135905],\n",
       "       [-0.00802415,  0.00645946, -0.00134831],\n",
       "       [-0.00804362,  0.0064717 , -0.00133772],\n",
       "       [-0.00806258,  0.00648379, -0.00132729],\n",
       "       [-0.008081  ,  0.00649573, -0.00131702],\n",
       "       [-0.00809887,  0.00650749, -0.00130693],\n",
       "       [-0.00811616,  0.00651908, -0.00129702],\n",
       "       [-0.00813285,  0.00653047, -0.00128729],\n",
       "       [-0.00814893,  0.00654167, -0.00127777],\n",
       "       [-0.00816437,  0.00655266, -0.00126846],\n",
       "       [-0.00817915,  0.00656343, -0.00125936],\n",
       "       [-0.00819326,  0.00657398, -0.0012505 ],\n",
       "       [-0.00820669,  0.00658429, -0.00124187],\n",
       "       [-0.00821942,  0.00659436, -0.0012335 ],\n",
       "       [-0.00823143,  0.00660419, -0.00122538],\n",
       "       [-0.00824272,  0.00661376, -0.00121754],\n",
       "       [-0.00825328,  0.00662308, -0.00120998],\n",
       "       [-0.00826309,  0.00663213, -0.00120271],\n",
       "       [-0.00827215,  0.00664091, -0.00119574],\n",
       "       [-0.00828045,  0.00664942, -0.0011891 ],\n",
       "       [-0.00828799,  0.00665764, -0.00118278],\n",
       "       [-0.00829476,  0.00666559, -0.0011768 ],\n",
       "       [-0.00830077,  0.00667325, -0.00117117],\n",
       "       [-0.008306  ,  0.00668062, -0.0011659 ],\n",
       "       [-0.00831046,  0.00668771, -0.00116101],\n",
       "       [-0.00831415,  0.00669449, -0.00115649],\n",
       "       [-0.00831708,  0.00670099, -0.00115238],\n",
       "       [-0.00831924,  0.00670718, -0.00114867],\n",
       "       [-0.00832065,  0.00671308, -0.00114537],\n",
       "       [-0.00832131,  0.00671868, -0.0011425 ],\n",
       "       [-0.00832122,  0.00672398, -0.00114006],\n",
       "       [-0.00832041,  0.00672898, -0.00113807],\n",
       "       [-0.00831887,  0.00673369, -0.00113652],\n",
       "       [-0.00831661,  0.00673809, -0.00113544],\n",
       "       [-0.00831366,  0.00674219, -0.00113482],\n",
       "       [-0.00831001,  0.006746  , -0.00113467],\n",
       "       [-0.00830569,  0.00674951, -0.001135  ],\n",
       "       [-0.00830071,  0.00675272, -0.00113581],\n",
       "       [-0.00829508,  0.00675564, -0.00113711],\n",
       "       [-0.00828882,  0.00675827, -0.0011389 ],\n",
       "       [-0.00828195,  0.00676061, -0.00114119],\n",
       "       [-0.00827447,  0.00676266, -0.00114397],\n",
       "       [-0.00826641,  0.00676442, -0.00114724],\n",
       "       [-0.00825778,  0.0067659 , -0.00115101],\n",
       "       [-0.00824861,  0.00676709, -0.00115528],\n",
       "       [-0.0082389 ,  0.00676801, -0.00116005],\n",
       "       [-0.00822868,  0.00676865, -0.0011653 ],\n",
       "       [-0.00821796,  0.00676902, -0.00117105],\n",
       "       [-0.00820676,  0.00676911, -0.00117728],\n",
       "       [-0.00819509,  0.00676894, -0.001184  ],\n",
       "       [-0.00818298,  0.0067685 , -0.00119119],\n",
       "       [-0.00817045,  0.0067678 , -0.00119884],\n",
       "       [-0.0081575 ,  0.00676684, -0.00120697],\n",
       "       [-0.00814416,  0.00676562, -0.00121554],\n",
       "       [-0.00813044,  0.00676415, -0.00122456],\n",
       "       [-0.00811636,  0.00676243, -0.00123402],\n",
       "       [-0.00810193,  0.00676046, -0.00124391],\n",
       "       [-0.00808718,  0.00675824, -0.00125421],\n",
       "       [-0.00807211,  0.00675579, -0.00126491],\n",
       "       [-0.00805674,  0.00675309, -0.00127601],\n",
       "       [-0.00804109,  0.00675016, -0.00128749],\n",
       "       [-0.00802517,  0.006747  , -0.00129934],\n",
       "       [-0.008009  ,  0.0067436 , -0.00131154],\n",
       "       [-0.00799258,  0.00673998, -0.00132408],\n",
       "       [-0.00797593,  0.00673613, -0.00133694],\n",
       "       [-0.00795907,  0.00673206, -0.00135012],\n",
       "       [-0.00794201,  0.00672777, -0.00136359],\n",
       "       [-0.00792475,  0.00672326, -0.00137734],\n",
       "       [-0.00790732,  0.00671853, -0.00139135],\n",
       "       [-0.00788972,  0.00671359, -0.0014056 ],\n",
       "       [-0.00787197,  0.00670844, -0.00142009],\n",
       "       [-0.00785407,  0.00670308, -0.00143478],\n",
       "       [-0.00783604,  0.00669751, -0.00144968],\n",
       "       [-0.00781789,  0.00669174, -0.00146474],\n",
       "       [-0.00779962,  0.00668576, -0.00147997],\n",
       "       [-0.00778125,  0.00667958, -0.00149533],\n",
       "       [-0.00776279,  0.00667319, -0.00151082],\n",
       "       [-0.00774425,  0.00666661, -0.00152641],\n",
       "       [-0.00772563,  0.00665982, -0.00154209],\n",
       "       [-0.00770695,  0.00665284, -0.00155783],\n",
       "       [-0.00768821,  0.00664566, -0.00157362],\n",
       "       [-0.00766943,  0.00663829, -0.00158943],\n",
       "       [-0.00765062,  0.00663072, -0.00160526],\n",
       "       [-0.00763177,  0.00662295, -0.00162107],\n",
       "       [-0.00761291,  0.00661499, -0.00163686],\n",
       "       [-0.00759404,  0.00660684, -0.0016526 ],\n",
       "       [-0.00757517,  0.0065985 , -0.00166826],\n",
       "       [-0.00755631,  0.00658996, -0.00168385],\n",
       "       [-0.00753746,  0.00658123, -0.00169932],\n",
       "       [-0.00751865,  0.00657232, -0.00171467],\n",
       "       [-0.00749987,  0.00656321, -0.00172988],\n",
       "       [-0.00748113,  0.00655392, -0.00174492],\n",
       "       [-0.00746246,  0.00654444, -0.00175979],\n",
       "       [-0.00744385,  0.00653478, -0.00177445],\n",
       "       [-0.00742532,  0.00652493, -0.00178889],\n",
       "       [-0.00740688,  0.0065149 , -0.00180309],\n",
       "       [-0.00738853,  0.0065047 , -0.00181704],\n",
       "       [-0.0073703 ,  0.00649432, -0.00183072],\n",
       "       [-0.00735219,  0.00648377, -0.00184411]])"
      ]
     },
     "execution_count": 62,
     "metadata": {},
     "output_type": "execute_result"
    }
   ],
   "source": [
    "deltab_gpu.T"
   ]
  },
  {
   "cell_type": "code",
   "execution_count": null,
   "metadata": {},
   "outputs": [],
   "source": []
  }
 ],
 "metadata": {
  "kernelspec": {
   "display_name": "Python 3",
   "language": "python",
   "name": "python3"
  },
  "language_info": {
   "codemirror_mode": {
    "name": "ipython",
    "version": 3
   },
   "file_extension": ".py",
   "mimetype": "text/x-python",
   "name": "python",
   "nbconvert_exporter": "python",
   "pygments_lexer": "ipython3",
   "version": "3.6.10"
  }
 },
 "nbformat": 4,
 "nbformat_minor": 4
}
